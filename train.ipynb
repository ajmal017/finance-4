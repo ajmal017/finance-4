{
 "cells": [
  {
   "cell_type": "code",
   "execution_count": 1,
   "metadata": {},
   "outputs": [
    {
     "data": {
      "text/html": [
       "<style>.container { width:100% !important; }</style>"
      ],
      "text/plain": [
       "<IPython.core.display.HTML object>"
      ]
     },
     "metadata": {},
     "output_type": "display_data"
    }
   ],
   "source": [
    "from IPython.core.display import display, HTML\n",
    "display(HTML(\"<style>.container { width:100% !important; }</style>\"))\n",
    "import warnings\n",
    "warnings.filterwarnings('ignore')"
   ]
  },
  {
   "cell_type": "code",
   "execution_count": 2,
   "metadata": {},
   "outputs": [],
   "source": [
    "%load_ext autoreload\n",
    "%autoreload 2\n",
    "\n",
    "import numpy as np\n",
    "import pandas as pd\n",
    "from tqdm import tqdm\n",
    "from datetime import timedelta, time\n",
    "import datetime\n",
    "import matplotlib.pyplot as plt\n",
    "import os\n",
    "import lightgbm as lgbm\n",
    "from sklearn.metrics import accuracy_score, log_loss\n",
    "from parameters import top_tickers, ibkr_info\n",
    "\n",
    "from utils import load_tickers, load_dfs, df_between, sample_ticker_datetimes\n",
    "#from features import calc_single_ticker_targets, calc_all_tickers_targets, calc_single_ticker_feats, calc_all_tickers_feats, load_feats, load_single_target, single_target_3\n",
    "from features import *\n",
    "from strategy import Strategy\n",
    "\n",
    "# import seaborn as sns\n",
    "# sns.set()\n",
    "\n",
    "\n",
    "DATA_PATH = '../finance_data'"
   ]
  },
  {
   "cell_type": "code",
   "execution_count": 67,
   "metadata": {},
   "outputs": [
    {
     "name": "stderr",
     "output_type": "stream",
     "text": [
      "100%|██████████| 30/30 [14:17<00:00, 28.60s/it]\n"
     ]
    }
   ],
   "source": [
    "load_tickers(data_prefix=DATA_PATH, tickers=np.array(list(ibkr_info.keys()))[:], start_date=datetime.datetime.strptime(\"20190101\", \"%Y%m%d\").date(), end_date=datetime.datetime.today().date() + timedelta(days=1), period=2)"
   ]
  },
  {
   "cell_type": "code",
   "execution_count": 15,
   "metadata": {},
   "outputs": [],
   "source": [
    "#ticker2df = load_dfs(DATA_PATH, np.array(list(ibkr_info.keys())))"
   ]
  },
  {
   "cell_type": "code",
   "execution_count": 3,
   "metadata": {},
   "outputs": [],
   "source": [
    "ticker2df = load_dfs(DATA_PATH, ['AFLT', 'AFKS', 'MOEX','GAZP'])"
   ]
  },
  {
   "cell_type": "code",
   "execution_count": 3,
   "metadata": {},
   "outputs": [],
   "source": [
    "ticker2df = load_dfs(DATA_PATH, ['AFLT'])"
   ]
  },
  {
   "cell_type": "code",
   "execution_count": 6,
   "metadata": {},
   "outputs": [
    {
     "name": "stderr",
     "output_type": "stream",
     "text": [
      "100%|██████████| 4/4 [33:31<00:00, 502.90s/it]\n"
     ]
    }
   ],
   "source": [
    "precompute_rollings(ticker2df, win_lens=[10,20])"
   ]
  },
  {
   "cell_type": "code",
   "execution_count": 4,
   "metadata": {},
   "outputs": [],
   "source": [
    "val_start_date = np.datetime64('2020-06-15') #- np.timedelta64(30, 'D')\n",
    "val_end_date = np.datetime64('2020-06-28') #- np.timedelta64(30, 'D')\n",
    "\n",
    "\n",
    "train_ticker_datetimes = sample_ticker_datetimes(ticker2df, None, val_start_date, cnt_by_ticker=10000)\n",
    "val_ticker_datetimes = sample_ticker_datetimes(ticker2df, val_start_date, val_end_date, cnt_by_ticker=None)"
   ]
  },
  {
   "cell_type": "code",
   "execution_count": 5,
   "metadata": {},
   "outputs": [
    {
     "name": "stdout",
     "output_type": "stream",
     "text": [
      "CPU times: user 1min 2s, sys: 11 s, total: 1min 13s\n",
      "Wall time: 1min 26s\n"
     ]
    }
   ],
   "source": [
    "%%time\n",
    "X_train = load_feats(ticker2df, train_ticker_datetimes[:], n_jobs=10)\n",
    "X_val = load_feats(ticker2df, val_ticker_datetimes[:], n_jobs=10)"
   ]
  },
  {
   "cell_type": "code",
   "execution_count": 6,
   "metadata": {},
   "outputs": [
    {
     "data": {
      "text/plain": [
       "((10000, 66), (1603, 66))"
      ]
     },
     "execution_count": 6,
     "metadata": {},
     "output_type": "execute_result"
    }
   ],
   "source": [
    "X_train.shape, X_val.shape"
   ]
  },
  {
   "cell_type": "code",
   "execution_count": 7,
   "metadata": {},
   "outputs": [
    {
     "name": "stdout",
     "output_type": "stream",
     "text": [
      "CPU times: user 13.6 s, sys: 3.5 s, total: 17.1 s\n",
      "Wall time: 18.1 s\n"
     ]
    }
   ],
   "source": [
    "%%time\n",
    "\n",
    "def target_foo(ticker2df, ticker_datetime):\n",
    "    corn_datetime = ticker_datetime['datetime']\n",
    "    target_df = df_between(ticker2df[ticker_datetime['<TICKER>']], corn_datetime, corn_datetime + np.timedelta64(1, 'h'))\n",
    "\n",
    "    target = target_1(target_df['<OPEN>'].values) #> 0.0\n",
    "#     target = target_df['<OPEN>'].values.mean() / target_df['<OPEN>'].values[0]\n",
    "#     target = target_df['<OPEN>'].values.mean() / df_between(ticker2df[ticker_datetime['<TICKER>']], corn_datetime-np.timedelta64(20, 'm'), corn_datetime)['<OPEN>'].values[-1]\n",
    "        \n",
    "    return target\n",
    "\n",
    "\n",
    "y_train = load_targets(ticker2df, train_ticker_datetimes[:], target_foo, n_jobs=10)\n",
    "y_val = load_targets(ticker2df, val_ticker_datetimes[:], target_foo, n_jobs=10)"
   ]
  },
  {
   "cell_type": "code",
   "execution_count": 121,
   "metadata": {},
   "outputs": [
    {
     "data": {
      "text/plain": [
       "0.48425"
      ]
     },
     "execution_count": 121,
     "metadata": {},
     "output_type": "execute_result"
    }
   ],
   "source": [
    "(y_train>0.0).mean()"
   ]
  },
  {
   "cell_type": "code",
   "execution_count": 136,
   "metadata": {},
   "outputs": [
    {
     "data": {
      "text/plain": [
       "0.0030885931969308745"
      ]
     },
     "execution_count": 136,
     "metadata": {},
     "output_type": "execute_result"
    }
   ],
   "source": [
    "y_train.mean()"
   ]
  },
  {
   "cell_type": "code",
   "execution_count": 117,
   "metadata": {},
   "outputs": [
    {
     "data": {
      "text/plain": [
       "array([-4.18988562e-05,  1.35835493e-03, -4.00489344e-03, ...,\n",
       "        8.15492896e-04, -3.07505814e-03,  9.97535501e-04])"
      ]
     },
     "execution_count": 117,
     "metadata": {},
     "output_type": "execute_result"
    }
   ],
   "source": [
    "y_train"
   ]
  },
  {
   "cell_type": "code",
   "execution_count": 122,
   "metadata": {},
   "outputs": [],
   "source": [
    "lgb = lgbm.sklearn.LGBMClassifier()\n",
    "lgb.fit(X_train.drop(['corn_datetime', 'ticker'], axis=1)[:], y_train[:]>0.0)\n",
    "pred_y = lgb.predict_proba(X_val.drop(['corn_datetime', 'ticker'], axis=1))[:, 0]\n",
    "\n",
    "#pred_proba = lgb.predict_proba(X_val.drop(['corn_date', 'ticker'], axis=1)[best_feat_idxs])[:, 1]"
   ]
  },
  {
   "cell_type": "code",
   "execution_count": 8,
   "metadata": {},
   "outputs": [],
   "source": [
    "lgb = lgbm.sklearn.LGBMRegressor()\n",
    "lgb.fit(X_train.drop(['corn_datetime', 'ticker'], axis=1), y_train)\n",
    "pred_y = lgb.predict(X_val.drop(['corn_datetime', 'ticker'], axis=1))"
   ]
  },
  {
   "cell_type": "code",
   "execution_count": 9,
   "metadata": {},
   "outputs": [
    {
     "data": {
      "text/plain": [
       "array([0.00756989, 0.00930687, 0.00954606, ..., 0.00753268, 0.00667326,\n",
       "       0.00667326])"
      ]
     },
     "execution_count": 9,
     "metadata": {},
     "output_type": "execute_result"
    }
   ],
   "source": [
    "pred_y"
   ]
  },
  {
   "cell_type": "code",
   "execution_count": 65,
   "metadata": {},
   "outputs": [],
   "source": [
    "# pred_proba = lgb.predict_proba(X_val.drop(['corn_datetime', 'ticker'], axis=1))[:, 1]\n"
   ]
  },
  {
   "cell_type": "code",
   "execution_count": 124,
   "metadata": {},
   "outputs": [
    {
     "data": {
      "text/plain": [
       "0.713197102995382"
      ]
     },
     "execution_count": 124,
     "metadata": {},
     "output_type": "execute_result"
    }
   ],
   "source": [
    "log_loss(y_val>0.0, pred_y)"
   ]
  },
  {
   "cell_type": "code",
   "execution_count": 10,
   "metadata": {},
   "outputs": [],
   "source": [
    "result = X_val[['ticker', 'corn_datetime']].copy()\n",
    "result['date'] = result['corn_datetime'].astype('datetime64[D]')\n",
    "\n",
    "result['y'] = y_val\n",
    "result['pred_y'] = pred_y\n",
    "\n",
    "result = result.sort_values('corn_datetime')"
   ]
  },
  {
   "cell_type": "code",
   "execution_count": 16,
   "metadata": {},
   "outputs": [
    {
     "data": {
      "text/plain": [
       "[<matplotlib.lines.Line2D at 0x7f4bc7bfecf8>]"
      ]
     },
     "execution_count": 16,
     "metadata": {},
     "output_type": "execute_result"
    },
    {
     "data": {
      "image/png": "[encoded data removed]",
      "text/plain": [
       "<Figure size 1800x720 with 2 Axes>"
      ]
     },
     "metadata": {
      "needs_background": "light"
     },
     "output_type": "display_data"
    }
   ],
   "source": [
    "day = np.datetime64('2020-06-18')\n",
    "ticker='AFLT'\n",
    "day_result = result[(result['ticker'] == ticker) & (result['date'] == day)]\n",
    "day_price = ticker2df[ticker][ticker2df[ticker]['date'] == day]#['<OPEN>']\n",
    "\n",
    "\n",
    "fig=plt.figure(figsize=(25,10))\n",
    "plt.title(ticker)\n",
    "ax1 = plt.subplot(211)\n",
    "ax2 = plt.subplot(212, sharex = ax1)\n",
    "\n",
    "ax1.plot(day_price['datetime'].values, day_price['<OPEN>'])\n",
    "ax2.plot(day_result['corn_datetime'].values, day_result['y'].values)\n",
    "ax2.plot(day_result['corn_datetime'].values, day_result['pred_y'].values)"
   ]
  },
  {
   "cell_type": "code",
   "execution_count": 33,
   "metadata": {},
   "outputs": [],
   "source": [
    "class Model:\n",
    "    def __init__(self, base_model):\n",
    "        self.base_model = base_model\n",
    "        \n",
    "    def predict_moments(self, X):\n",
    "        #pred = self.base_model.predict_proba(X.drop(['corn_datetime', 'ticker'], axis=1))[:, 1]\n",
    "        pred = self.base_model.predict(X.drop(['corn_datetime', 'ticker'], axis=1))\n",
    "\n",
    "        buy_moments = X[pred > 0.0][['ticker', 'corn_datetime']]\n",
    "        source_pred = pd.DataFrame()\n",
    "        source_pred['datetime'] = X['corn_datetime']\n",
    "        source_pred['ticker'] = X['ticker']\n",
    "        source_pred['pred'] = pred\n",
    "        source_pred['date'] = source_pred['datetime'].astype('datetime64[D]')\n",
    "\n",
    "        return buy_moments, source_pred\n",
    "        \n",
    "        \n",
    "strategy = Strategy(Model(lgb), take_profit_coef=1+0.005, stop_loss_coef=1-0.005, broker_comission=0.0005, close_interval=np.timedelta64(1,'h'))   "
   ]
  },
  {
   "cell_type": "code",
   "execution_count": 34,
   "metadata": {},
   "outputs": [
    {
     "data": {
      "text/plain": [
       "-2369.0210492965753"
      ]
     },
     "execution_count": 34,
     "metadata": {},
     "output_type": "execute_result"
    }
   ],
   "source": [
    "strategy.evaluate(ticker2df, X_val)"
   ]
  },
  {
   "cell_type": "code",
   "execution_count": 35,
   "metadata": {},
   "outputs": [
    {
     "data": {
      "image/png": "[encoded data removed]",
      "text/plain": [
       "<Figure size 1800x720 with 2 Axes>"
      ]
     },
     "metadata": {
      "needs_background": "light"
     },
     "output_type": "display_data"
    }
   ],
   "source": [
    "strategy.draw(ticker2df, 1)"
   ]
  },
  {
   "cell_type": "code",
   "execution_count": 36,
   "metadata": {},
   "outputs": [
    {
     "data": {
      "text/html": [
       "<div>\n",
       "<style scoped>\n",
       "    .dataframe tbody tr th:only-of-type {\n",
       "        vertical-align: middle;\n",
       "    }\n",
       "\n",
       "    .dataframe tbody tr th {\n",
       "        vertical-align: top;\n",
       "    }\n",
       "\n",
       "    .dataframe thead th {\n",
       "        text-align: right;\n",
       "    }\n",
       "</style>\n",
       "<table border=\"1\" class=\"dataframe\">\n",
       "  <thead>\n",
       "    <tr style=\"text-align: right;\">\n",
       "      <th></th>\n",
       "      <th>ticker</th>\n",
       "      <th>date</th>\n",
       "      <th>abs_profit</th>\n",
       "    </tr>\n",
       "  </thead>\n",
       "  <tbody>\n",
       "    <tr>\n",
       "      <th>0</th>\n",
       "      <td>AFLT</td>\n",
       "      <td>2020-06-15</td>\n",
       "      <td>1668.292529</td>\n",
       "    </tr>\n",
       "    <tr>\n",
       "      <th>1</th>\n",
       "      <td>AFLT</td>\n",
       "      <td>2020-06-16</td>\n",
       "      <td>-1974.248430</td>\n",
       "    </tr>\n",
       "    <tr>\n",
       "      <th>2</th>\n",
       "      <td>AFLT</td>\n",
       "      <td>2020-06-17</td>\n",
       "      <td>-2956.894623</td>\n",
       "    </tr>\n",
       "    <tr>\n",
       "      <th>3</th>\n",
       "      <td>AFLT</td>\n",
       "      <td>2020-06-18</td>\n",
       "      <td>893.829475</td>\n",
       "    </tr>\n",
       "  </tbody>\n",
       "</table>\n",
       "</div>"
      ],
      "text/plain": [
       "  ticker       date   abs_profit\n",
       "0   AFLT 2020-06-15  1668.292529\n",
       "1   AFLT 2020-06-16 -1974.248430\n",
       "2   AFLT 2020-06-17 -2956.894623\n",
       "3   AFLT 2020-06-18   893.829475"
      ]
     },
     "execution_count": 36,
     "metadata": {},
     "output_type": "execute_result"
    }
   ],
   "source": [
    "strategy.grouped_orders"
   ]
  },
  {
   "cell_type": "code",
   "execution_count": 32,
   "metadata": {},
   "outputs": [
    {
     "data": {
      "text/html": [
       "<div>\n",
       "<style scoped>\n",
       "    .dataframe tbody tr th:only-of-type {\n",
       "        vertical-align: middle;\n",
       "    }\n",
       "\n",
       "    .dataframe tbody tr th {\n",
       "        vertical-align: top;\n",
       "    }\n",
       "\n",
       "    .dataframe thead th {\n",
       "        text-align: right;\n",
       "    }\n",
       "</style>\n",
       "<table border=\"1\" class=\"dataframe\">\n",
       "  <thead>\n",
       "    <tr style=\"text-align: right;\">\n",
       "      <th></th>\n",
       "      <th>ticker</th>\n",
       "      <th>buy_datetime</th>\n",
       "      <th>sell_datetime</th>\n",
       "      <th>profit</th>\n",
       "      <th>buy_price</th>\n",
       "      <th>sell_price</th>\n",
       "      <th>abs_profit</th>\n",
       "      <th>time_in_order</th>\n",
       "      <th>date</th>\n",
       "    </tr>\n",
       "  </thead>\n",
       "  <tbody>\n",
       "    <tr>\n",
       "      <th>0</th>\n",
       "      <td>AFLT</td>\n",
       "      <td>2020-06-15 10:27:00</td>\n",
       "      <td>2020-06-15 10:44:00</td>\n",
       "      <td>0.004673</td>\n",
       "      <td>85.06</td>\n",
       "      <td>85.50</td>\n",
       "      <td>467.281919</td>\n",
       "      <td>00:17:00</td>\n",
       "      <td>2020-06-15</td>\n",
       "    </tr>\n",
       "    <tr>\n",
       "      <th>1</th>\n",
       "      <td>AFLT</td>\n",
       "      <td>2020-06-15 11:13:00</td>\n",
       "      <td>2020-06-15 11:37:00</td>\n",
       "      <td>0.004610</td>\n",
       "      <td>86.10</td>\n",
       "      <td>86.54</td>\n",
       "      <td>461.033682</td>\n",
       "      <td>00:24:00</td>\n",
       "      <td>2020-06-15</td>\n",
       "    </tr>\n",
       "    <tr>\n",
       "      <th>2</th>\n",
       "      <td>AFLT</td>\n",
       "      <td>2020-06-17 12:53:00</td>\n",
       "      <td>2020-06-17 13:02:00</td>\n",
       "      <td>-0.006573</td>\n",
       "      <td>88.92</td>\n",
       "      <td>88.38</td>\n",
       "      <td>-657.287449</td>\n",
       "      <td>00:09:00</td>\n",
       "      <td>2020-06-17</td>\n",
       "    </tr>\n",
       "    <tr>\n",
       "      <th>3</th>\n",
       "      <td>AFLT</td>\n",
       "      <td>2020-06-17 13:03:00</td>\n",
       "      <td>2020-06-17 13:11:00</td>\n",
       "      <td>-0.008177</td>\n",
       "      <td>88.58</td>\n",
       "      <td>87.90</td>\n",
       "      <td>-817.667645</td>\n",
       "      <td>00:08:00</td>\n",
       "      <td>2020-06-17</td>\n",
       "    </tr>\n",
       "    <tr>\n",
       "      <th>4</th>\n",
       "      <td>AFLT</td>\n",
       "      <td>2020-06-17 13:14:00</td>\n",
       "      <td>2020-06-17 13:20:00</td>\n",
       "      <td>0.004948</td>\n",
       "      <td>88.10</td>\n",
       "      <td>88.58</td>\n",
       "      <td>494.835414</td>\n",
       "      <td>00:06:00</td>\n",
       "      <td>2020-06-17</td>\n",
       "    </tr>\n",
       "    <tr>\n",
       "      <th>5</th>\n",
       "      <td>AFLT</td>\n",
       "      <td>2020-06-17 13:21:00</td>\n",
       "      <td>2020-06-17 13:29:00</td>\n",
       "      <td>0.005152</td>\n",
       "      <td>88.46</td>\n",
       "      <td>88.96</td>\n",
       "      <td>515.227221</td>\n",
       "      <td>00:08:00</td>\n",
       "      <td>2020-06-17</td>\n",
       "    </tr>\n",
       "  </tbody>\n",
       "</table>\n",
       "</div>"
      ],
      "text/plain": [
       "  ticker        buy_datetime       sell_datetime    profit  buy_price  \\\n",
       "0   AFLT 2020-06-15 10:27:00 2020-06-15 10:44:00  0.004673      85.06   \n",
       "1   AFLT 2020-06-15 11:13:00 2020-06-15 11:37:00  0.004610      86.10   \n",
       "2   AFLT 2020-06-17 12:53:00 2020-06-17 13:02:00 -0.006573      88.92   \n",
       "3   AFLT 2020-06-17 13:03:00 2020-06-17 13:11:00 -0.008177      88.58   \n",
       "4   AFLT 2020-06-17 13:14:00 2020-06-17 13:20:00  0.004948      88.10   \n",
       "5   AFLT 2020-06-17 13:21:00 2020-06-17 13:29:00  0.005152      88.46   \n",
       "\n",
       "   sell_price  abs_profit time_in_order       date  \n",
       "0       85.50  467.281919      00:17:00 2020-06-15  \n",
       "1       86.54  461.033682      00:24:00 2020-06-15  \n",
       "2       88.38 -657.287449      00:09:00 2020-06-17  \n",
       "3       87.90 -817.667645      00:08:00 2020-06-17  \n",
       "4       88.58  494.835414      00:06:00 2020-06-17  \n",
       "5       88.96  515.227221      00:08:00 2020-06-17  "
      ]
     },
     "execution_count": 32,
     "metadata": {},
     "output_type": "execute_result"
    }
   ],
   "source": [
    "strategy.orders"
   ]
  },
  {
   "cell_type": "code",
   "execution_count": 44,
   "metadata": {},
   "outputs": [
    {
     "data": {
      "text/plain": [
       "(6409, 50)"
      ]
     },
     "execution_count": 44,
     "metadata": {},
     "output_type": "execute_result"
    }
   ],
   "source": [
    "X_val.shape"
   ]
  },
  {
   "cell_type": "code",
   "execution_count": 53,
   "metadata": {},
   "outputs": [
    {
     "data": {
      "text/html": [
       "<div>\n",
       "<style scoped>\n",
       "    .dataframe tbody tr th:only-of-type {\n",
       "        vertical-align: middle;\n",
       "    }\n",
       "\n",
       "    .dataframe tbody tr th {\n",
       "        vertical-align: top;\n",
       "    }\n",
       "\n",
       "    .dataframe thead th {\n",
       "        text-align: right;\n",
       "    }\n",
       "</style>\n",
       "<table border=\"1\" class=\"dataframe\">\n",
       "  <thead>\n",
       "    <tr style=\"text-align: right;\">\n",
       "      <th></th>\n",
       "      <th>ticker</th>\n",
       "      <th>buy_datetime</th>\n",
       "      <th>sell_datetime</th>\n",
       "      <th>profit</th>\n",
       "      <th>buy_price</th>\n",
       "      <th>sell_price</th>\n",
       "      <th>abs_profit</th>\n",
       "      <th>time_in_order</th>\n",
       "      <th>date</th>\n",
       "    </tr>\n",
       "  </thead>\n",
       "  <tbody>\n",
       "    <tr>\n",
       "      <th>0</th>\n",
       "      <td>AFLT</td>\n",
       "      <td>2020-06-15 10:21:00</td>\n",
       "      <td>2020-06-15 10:45:00</td>\n",
       "      <td>0.009651</td>\n",
       "      <td>84.72</td>\n",
       "      <td>85.58</td>\n",
       "      <td>965.108593</td>\n",
       "      <td>00:24:00</td>\n",
       "      <td>2020-06-15</td>\n",
       "    </tr>\n",
       "    <tr>\n",
       "      <th>1</th>\n",
       "      <td>AFLT</td>\n",
       "      <td>2020-06-15 10:48:00</td>\n",
       "      <td>2020-06-15 11:44:00</td>\n",
       "      <td>0.009766</td>\n",
       "      <td>85.72</td>\n",
       "      <td>86.60</td>\n",
       "      <td>976.598227</td>\n",
       "      <td>00:56:00</td>\n",
       "      <td>2020-06-15</td>\n",
       "    </tr>\n",
       "    <tr>\n",
       "      <th>2</th>\n",
       "      <td>AFLT</td>\n",
       "      <td>2020-06-15 11:45:00</td>\n",
       "      <td>2020-06-15 13:53:00</td>\n",
       "      <td>-0.012498</td>\n",
       "      <td>86.68</td>\n",
       "      <td>85.64</td>\n",
       "      <td>-1249.815413</td>\n",
       "      <td>02:08:00</td>\n",
       "      <td>2020-06-15</td>\n",
       "    </tr>\n",
       "    <tr>\n",
       "      <th>3</th>\n",
       "      <td>AFLT</td>\n",
       "      <td>2020-06-15 13:54:00</td>\n",
       "      <td>2020-06-15 16:39:00</td>\n",
       "      <td>0.009759</td>\n",
       "      <td>85.78</td>\n",
       "      <td>86.66</td>\n",
       "      <td>975.880159</td>\n",
       "      <td>02:45:00</td>\n",
       "      <td>2020-06-15</td>\n",
       "    </tr>\n",
       "    <tr>\n",
       "      <th>4</th>\n",
       "      <td>AFLT</td>\n",
       "      <td>2020-06-15 16:40:00</td>\n",
       "      <td>2020-06-15 18:33:00</td>\n",
       "      <td>0.009685</td>\n",
       "      <td>86.40</td>\n",
       "      <td>87.28</td>\n",
       "      <td>968.518519</td>\n",
       "      <td>01:53:00</td>\n",
       "      <td>2020-06-15</td>\n",
       "    </tr>\n",
       "    <tr>\n",
       "      <th>5</th>\n",
       "      <td>AFLT</td>\n",
       "      <td>2020-06-16 10:21:00</td>\n",
       "      <td>2020-06-16 18:15:00</td>\n",
       "      <td>-0.010722</td>\n",
       "      <td>90.00</td>\n",
       "      <td>89.08</td>\n",
       "      <td>-1072.222222</td>\n",
       "      <td>07:54:00</td>\n",
       "      <td>2020-06-16</td>\n",
       "    </tr>\n",
       "    <tr>\n",
       "      <th>6</th>\n",
       "      <td>AFLT</td>\n",
       "      <td>2020-06-17 10:21:00</td>\n",
       "      <td>2020-06-17 12:52:00</td>\n",
       "      <td>-0.011202</td>\n",
       "      <td>89.70</td>\n",
       "      <td>88.74</td>\n",
       "      <td>-1120.234114</td>\n",
       "      <td>02:31:00</td>\n",
       "      <td>2020-06-17</td>\n",
       "    </tr>\n",
       "    <tr>\n",
       "      <th>7</th>\n",
       "      <td>AFLT</td>\n",
       "      <td>2020-06-17 12:53:00</td>\n",
       "      <td>2020-06-17 13:11:00</td>\n",
       "      <td>-0.011971</td>\n",
       "      <td>88.92</td>\n",
       "      <td>87.90</td>\n",
       "      <td>-1197.098516</td>\n",
       "      <td>00:18:00</td>\n",
       "      <td>2020-06-17</td>\n",
       "    </tr>\n",
       "    <tr>\n",
       "      <th>8</th>\n",
       "      <td>AFLT</td>\n",
       "      <td>2020-06-17 13:12:00</td>\n",
       "      <td>2020-06-17 13:29:00</td>\n",
       "      <td>0.009720</td>\n",
       "      <td>88.06</td>\n",
       "      <td>88.96</td>\n",
       "      <td>972.030434</td>\n",
       "      <td>00:17:00</td>\n",
       "      <td>2020-06-17</td>\n",
       "    </tr>\n",
       "    <tr>\n",
       "      <th>9</th>\n",
       "      <td>AFLT</td>\n",
       "      <td>2020-06-17 13:31:00</td>\n",
       "      <td>2020-06-17 18:11:00</td>\n",
       "      <td>-0.014458</td>\n",
       "      <td>88.84</td>\n",
       "      <td>87.60</td>\n",
       "      <td>-1445.767672</td>\n",
       "      <td>04:40:00</td>\n",
       "      <td>2020-06-17</td>\n",
       "    </tr>\n",
       "    <tr>\n",
       "      <th>10</th>\n",
       "      <td>AFLT</td>\n",
       "      <td>2020-06-18 10:21:00</td>\n",
       "      <td>2020-06-18 10:30:00</td>\n",
       "      <td>0.011165</td>\n",
       "      <td>82.30</td>\n",
       "      <td>83.26</td>\n",
       "      <td>1116.464156</td>\n",
       "      <td>00:09:00</td>\n",
       "      <td>2020-06-18</td>\n",
       "    </tr>\n",
       "    <tr>\n",
       "      <th>11</th>\n",
       "      <td>AFLT</td>\n",
       "      <td>2020-06-18 10:31:00</td>\n",
       "      <td>2020-06-18 10:36:00</td>\n",
       "      <td>0.010584</td>\n",
       "      <td>83.00</td>\n",
       "      <td>83.92</td>\n",
       "      <td>1058.433735</td>\n",
       "      <td>00:05:00</td>\n",
       "      <td>2020-06-18</td>\n",
       "    </tr>\n",
       "    <tr>\n",
       "      <th>12</th>\n",
       "      <td>AFLT</td>\n",
       "      <td>2020-06-18 10:37:00</td>\n",
       "      <td>2020-06-18 10:41:00</td>\n",
       "      <td>-0.011242</td>\n",
       "      <td>83.78</td>\n",
       "      <td>82.88</td>\n",
       "      <td>-1124.242063</td>\n",
       "      <td>00:04:00</td>\n",
       "      <td>2020-06-18</td>\n",
       "    </tr>\n",
       "    <tr>\n",
       "      <th>13</th>\n",
       "      <td>AFLT</td>\n",
       "      <td>2020-06-18 10:42:00</td>\n",
       "      <td>2020-06-18 11:14:00</td>\n",
       "      <td>-0.012287</td>\n",
       "      <td>83.14</td>\n",
       "      <td>82.16</td>\n",
       "      <td>-1228.734664</td>\n",
       "      <td>00:32:00</td>\n",
       "      <td>2020-06-18</td>\n",
       "    </tr>\n",
       "    <tr>\n",
       "      <th>14</th>\n",
       "      <td>AFLT</td>\n",
       "      <td>2020-06-18 11:15:00</td>\n",
       "      <td>2020-06-18 12:36:00</td>\n",
       "      <td>0.009960</td>\n",
       "      <td>82.22</td>\n",
       "      <td>83.08</td>\n",
       "      <td>995.974216</td>\n",
       "      <td>01:21:00</td>\n",
       "      <td>2020-06-18</td>\n",
       "    </tr>\n",
       "    <tr>\n",
       "      <th>15</th>\n",
       "      <td>AFLT</td>\n",
       "      <td>2020-06-18 12:37:00</td>\n",
       "      <td>2020-06-18 14:06:00</td>\n",
       "      <td>-0.006282</td>\n",
       "      <td>83.02</td>\n",
       "      <td>82.54</td>\n",
       "      <td>-628.173934</td>\n",
       "      <td>01:29:00</td>\n",
       "      <td>2020-06-18</td>\n",
       "    </tr>\n",
       "    <tr>\n",
       "      <th>16</th>\n",
       "      <td>MOEX</td>\n",
       "      <td>2020-06-18 14:07:00</td>\n",
       "      <td>2020-06-18 14:12:00</td>\n",
       "      <td>-0.002053</td>\n",
       "      <td>115.90</td>\n",
       "      <td>115.72</td>\n",
       "      <td>-205.306299</td>\n",
       "      <td>00:05:00</td>\n",
       "      <td>2020-06-18</td>\n",
       "    </tr>\n",
       "  </tbody>\n",
       "</table>\n",
       "</div>"
      ],
      "text/plain": [
       "   ticker        buy_datetime       sell_datetime    profit  buy_price  \\\n",
       "0    AFLT 2020-06-15 10:21:00 2020-06-15 10:45:00  0.009651      84.72   \n",
       "1    AFLT 2020-06-15 10:48:00 2020-06-15 11:44:00  0.009766      85.72   \n",
       "2    AFLT 2020-06-15 11:45:00 2020-06-15 13:53:00 -0.012498      86.68   \n",
       "3    AFLT 2020-06-15 13:54:00 2020-06-15 16:39:00  0.009759      85.78   \n",
       "4    AFLT 2020-06-15 16:40:00 2020-06-15 18:33:00  0.009685      86.40   \n",
       "5    AFLT 2020-06-16 10:21:00 2020-06-16 18:15:00 -0.010722      90.00   \n",
       "6    AFLT 2020-06-17 10:21:00 2020-06-17 12:52:00 -0.011202      89.70   \n",
       "7    AFLT 2020-06-17 12:53:00 2020-06-17 13:11:00 -0.011971      88.92   \n",
       "8    AFLT 2020-06-17 13:12:00 2020-06-17 13:29:00  0.009720      88.06   \n",
       "9    AFLT 2020-06-17 13:31:00 2020-06-17 18:11:00 -0.014458      88.84   \n",
       "10   AFLT 2020-06-18 10:21:00 2020-06-18 10:30:00  0.011165      82.30   \n",
       "11   AFLT 2020-06-18 10:31:00 2020-06-18 10:36:00  0.010584      83.00   \n",
       "12   AFLT 2020-06-18 10:37:00 2020-06-18 10:41:00 -0.011242      83.78   \n",
       "13   AFLT 2020-06-18 10:42:00 2020-06-18 11:14:00 -0.012287      83.14   \n",
       "14   AFLT 2020-06-18 11:15:00 2020-06-18 12:36:00  0.009960      82.22   \n",
       "15   AFLT 2020-06-18 12:37:00 2020-06-18 14:06:00 -0.006282      83.02   \n",
       "16   MOEX 2020-06-18 14:07:00 2020-06-18 14:12:00 -0.002053     115.90   \n",
       "\n",
       "    sell_price   abs_profit time_in_order       date  \n",
       "0        85.58   965.108593      00:24:00 2020-06-15  \n",
       "1        86.60   976.598227      00:56:00 2020-06-15  \n",
       "2        85.64 -1249.815413      02:08:00 2020-06-15  \n",
       "3        86.66   975.880159      02:45:00 2020-06-15  \n",
       "4        87.28   968.518519      01:53:00 2020-06-15  \n",
       "5        89.08 -1072.222222      07:54:00 2020-06-16  \n",
       "6        88.74 -1120.234114      02:31:00 2020-06-17  \n",
       "7        87.90 -1197.098516      00:18:00 2020-06-17  \n",
       "8        88.96   972.030434      00:17:00 2020-06-17  \n",
       "9        87.60 -1445.767672      04:40:00 2020-06-17  \n",
       "10       83.26  1116.464156      00:09:00 2020-06-18  \n",
       "11       83.92  1058.433735      00:05:00 2020-06-18  \n",
       "12       82.88 -1124.242063      00:04:00 2020-06-18  \n",
       "13       82.16 -1228.734664      00:32:00 2020-06-18  \n",
       "14       83.08   995.974216      01:21:00 2020-06-18  \n",
       "15       82.54  -628.173934      01:29:00 2020-06-18  \n",
       "16      115.72  -205.306299      00:05:00 2020-06-18  "
      ]
     },
     "execution_count": 53,
     "metadata": {},
     "output_type": "execute_result"
    }
   ],
   "source": [
    "strategy.orders"
   ]
  },
  {
   "cell_type": "code",
   "execution_count": null,
   "metadata": {},
   "outputs": [],
   "source": []
  },
  {
   "cell_type": "code",
   "execution_count": null,
   "metadata": {},
   "outputs": [],
   "source": [
    "draw_orders(date)"
   ]
  },
  {
   "cell_type": "code",
   "execution_count": 143,
   "metadata": {},
   "outputs": [
    {
     "data": {
      "text/html": [
       "<div>\n",
       "<style scoped>\n",
       "    .dataframe tbody tr th:only-of-type {\n",
       "        vertical-align: middle;\n",
       "    }\n",
       "\n",
       "    .dataframe tbody tr th {\n",
       "        vertical-align: top;\n",
       "    }\n",
       "\n",
       "    .dataframe thead th {\n",
       "        text-align: right;\n",
       "    }\n",
       "</style>\n",
       "<table border=\"1\" class=\"dataframe\">\n",
       "  <thead>\n",
       "    <tr style=\"text-align: right;\">\n",
       "      <th></th>\n",
       "      <th>0</th>\n",
       "      <th>1</th>\n",
       "      <th>2</th>\n",
       "      <th>3</th>\n",
       "      <th>4</th>\n",
       "      <th>5</th>\n",
       "      <th>6</th>\n",
       "      <th>7</th>\n",
       "      <th>8</th>\n",
       "      <th>9</th>\n",
       "      <th>...</th>\n",
       "      <th>40</th>\n",
       "      <th>41</th>\n",
       "      <th>42</th>\n",
       "      <th>43</th>\n",
       "      <th>44</th>\n",
       "      <th>45</th>\n",
       "      <th>46</th>\n",
       "      <th>47</th>\n",
       "      <th>ticker</th>\n",
       "      <th>corn_datetime</th>\n",
       "    </tr>\n",
       "  </thead>\n",
       "  <tbody>\n",
       "    <tr>\n",
       "      <th>0</th>\n",
       "      <td>-0.027938</td>\n",
       "      <td>0.004382</td>\n",
       "      <td>-0.031772</td>\n",
       "      <td>-0.012431</td>\n",
       "      <td>0.007261</td>\n",
       "      <td>1.037341</td>\n",
       "      <td>0.577370</td>\n",
       "      <td>0.324036</td>\n",
       "      <td>0.270138</td>\n",
       "      <td>0.196281</td>\n",
       "      <td>...</td>\n",
       "      <td>4.0</td>\n",
       "      <td>1.0</td>\n",
       "      <td>0.971275</td>\n",
       "      <td>0.966912</td>\n",
       "      <td>0.997455</td>\n",
       "      <td>0.966912</td>\n",
       "      <td>0.003454</td>\n",
       "      <td>0.000909</td>\n",
       "      <td>AFLT</td>\n",
       "      <td>2020-05-18 10:21:00</td>\n",
       "    </tr>\n",
       "    <tr>\n",
       "      <th>1</th>\n",
       "      <td>-0.027664</td>\n",
       "      <td>0.004382</td>\n",
       "      <td>-0.031772</td>\n",
       "      <td>-0.012439</td>\n",
       "      <td>0.007267</td>\n",
       "      <td>1.037341</td>\n",
       "      <td>0.578032</td>\n",
       "      <td>0.324036</td>\n",
       "      <td>0.270414</td>\n",
       "      <td>0.196492</td>\n",
       "      <td>...</td>\n",
       "      <td>4.0</td>\n",
       "      <td>1.0</td>\n",
       "      <td>0.971275</td>\n",
       "      <td>0.966912</td>\n",
       "      <td>0.997455</td>\n",
       "      <td>0.966912</td>\n",
       "      <td>0.003182</td>\n",
       "      <td>0.001182</td>\n",
       "      <td>AFLT</td>\n",
       "      <td>2020-05-18 10:22:00</td>\n",
       "    </tr>\n",
       "    <tr>\n",
       "      <th>2</th>\n",
       "      <td>-0.029581</td>\n",
       "      <td>0.004382</td>\n",
       "      <td>-0.031772</td>\n",
       "      <td>-0.012447</td>\n",
       "      <td>0.007274</td>\n",
       "      <td>1.037341</td>\n",
       "      <td>0.578789</td>\n",
       "      <td>0.324036</td>\n",
       "      <td>0.270785</td>\n",
       "      <td>0.196728</td>\n",
       "      <td>...</td>\n",
       "      <td>5.0</td>\n",
       "      <td>0.0</td>\n",
       "      <td>0.966912</td>\n",
       "      <td>NaN</td>\n",
       "      <td>0.997455</td>\n",
       "      <td>0.966912</td>\n",
       "      <td>0.000727</td>\n",
       "      <td>NaN</td>\n",
       "      <td>AFLT</td>\n",
       "      <td>2020-05-18 10:23:00</td>\n",
       "    </tr>\n",
       "  </tbody>\n",
       "</table>\n",
       "<p>3 rows × 50 columns</p>\n",
       "</div>"
      ],
      "text/plain": [
       "          0         1         2         3         4         5         6  \\\n",
       "0 -0.027938  0.004382 -0.031772 -0.012431  0.007261  1.037341  0.577370   \n",
       "1 -0.027664  0.004382 -0.031772 -0.012439  0.007267  1.037341  0.578032   \n",
       "2 -0.029581  0.004382 -0.031772 -0.012447  0.007274  1.037341  0.578789   \n",
       "\n",
       "          7         8         9  ...   40   41        42        43        44  \\\n",
       "0  0.324036  0.270138  0.196281  ...  4.0  1.0  0.971275  0.966912  0.997455   \n",
       "1  0.324036  0.270414  0.196492  ...  4.0  1.0  0.971275  0.966912  0.997455   \n",
       "2  0.324036  0.270785  0.196728  ...  5.0  0.0  0.966912       NaN  0.997455   \n",
       "\n",
       "         45        46        47  ticker       corn_datetime  \n",
       "0  0.966912  0.003454  0.000909    AFLT 2020-05-18 10:21:00  \n",
       "1  0.966912  0.003182  0.001182    AFLT 2020-05-18 10:22:00  \n",
       "2  0.966912  0.000727       NaN    AFLT 2020-05-18 10:23:00  \n",
       "\n",
       "[3 rows x 50 columns]"
      ]
     },
     "execution_count": 143,
     "metadata": {},
     "output_type": "execute_result"
    }
   ],
   "source": [
    "X_val[:3]"
   ]
  },
  {
   "cell_type": "code",
   "execution_count": 144,
   "metadata": {},
   "outputs": [
    {
     "data": {
      "text/plain": [
       "array([0.        , 0.00197573, 0.00084579, ..., 0.00335345, 0.00425151,\n",
       "       0.00156215])"
      ]
     },
     "execution_count": 144,
     "metadata": {},
     "output_type": "execute_result"
    }
   ],
   "source": [
    "y_val"
   ]
  },
  {
   "cell_type": "code",
   "execution_count": null,
   "metadata": {},
   "outputs": [],
   "source": []
  },
  {
   "cell_type": "code",
   "execution_count": 53,
   "metadata": {},
   "outputs": [
    {
     "data": {
      "text/plain": [
       "(array([ 45., 126., 215., 280., 290., 300., 288., 231., 152.,  73.]),\n",
       " array([0.0340979 , 0.12758671, 0.22107551, 0.31456432, 0.40805313,\n",
       "        0.50154193, 0.59503074, 0.68851954, 0.78200835, 0.87549715,\n",
       "        0.96898596]),\n",
       " <a list of 10 Patch objects>)"
      ]
     },
     "execution_count": 53,
     "metadata": {},
     "output_type": "execute_result"
    },
    {
     "data": {
      "image/png": "[encoded data removed]",
      "text/plain": [
       "<Figure size 432x288 with 1 Axes>"
      ]
     },
     "metadata": {},
     "output_type": "display_data"
    }
   ],
   "source": [
    "plt.hist(pred_proba)"
   ]
  },
  {
   "cell_type": "code",
   "execution_count": 43,
   "metadata": {},
   "outputs": [
    {
     "data": {
      "text/plain": [
       "array([0.0022457 , 0.00373134, 0.0030074 , ..., 0.00159067, 0.00479616,\n",
       "       0.00370272])"
      ]
     },
     "execution_count": 43,
     "metadata": {},
     "output_type": "execute_result"
    }
   ],
   "source": [
    "y_val"
   ]
  },
  {
   "cell_type": "code",
   "execution_count": 37,
   "metadata": {},
   "outputs": [
    {
     "data": {
      "text/plain": [
       "array([0.74425161, 0.75724756, 0.27640063, ..., 0.71295781, 0.60290524,\n",
       "       0.8223023 ])"
      ]
     },
     "execution_count": 37,
     "metadata": {},
     "output_type": "execute_result"
    }
   ],
   "source": [
    "pred_proba"
   ]
  },
  {
   "cell_type": "code",
   "execution_count": null,
   "metadata": {},
   "outputs": [],
   "source": []
  },
  {
   "cell_type": "code",
   "execution_count": 46,
   "metadata": {},
   "outputs": [],
   "source": [
    "X['y'] = y"
   ]
  },
  {
   "cell_type": "code",
   "execution_count": 11,
   "metadata": {},
   "outputs": [
    {
     "data": {
      "text/plain": [
       "(array([116.,  89.,  49.,  19.,  10.,   9.,   4.,   1.,   1.,   2.]),\n",
       " array([6.02280216e-05, 8.14788228e-04, 1.56934843e-03, 2.32390864e-03,\n",
       "        3.07846885e-03, 3.83302905e-03, 4.58758926e-03, 5.34214946e-03,\n",
       "        6.09670967e-03, 6.85126988e-03, 7.60583008e-03]),\n",
       " <a list of 10 Patch objects>)"
      ]
     },
     "execution_count": 11,
     "metadata": {},
     "output_type": "execute_result"
    },
    {
     "data": {
      "image/png": "[encoded data removed]",
      "text/plain": [
       "<Figure size 432x288 with 1 Axes>"
      ]
     },
     "metadata": {
      "needs_background": "light"
     },
     "output_type": "display_data"
    }
   ],
   "source": [
    "plt.hist(y)"
   ]
  },
  {
   "cell_type": "code",
   "execution_count": null,
   "metadata": {},
   "outputs": [],
   "source": []
  },
  {
   "cell_type": "code",
   "execution_count": null,
   "metadata": {},
   "outputs": [],
   "source": [
    "lgb.feature_importances_"
   ]
  },
  {
   "cell_type": "code",
   "execution_count": null,
   "metadata": {},
   "outputs": [],
   "source": [
    "plt.plot(lgb.feature_importances_)"
   ]
  },
  {
   "cell_type": "code",
   "execution_count": null,
   "metadata": {},
   "outputs": [],
   "source": [
    "plt.plot(lgb.feature_importances_)"
   ]
  },
  {
   "cell_type": "code",
   "execution_count": null,
   "metadata": {},
   "outputs": [],
   "source": [
    "try:\n",
    "    del X_val['profit']\n",
    "    del X_val['profit_abs']\n",
    "except:\n",
    "    None\n",
    "\n",
    "pred_proba = lgb.predict_proba(X_val.drop(['corn_date', 'ticker'], axis=1)[best_feat_idxs])[:, 1]\n",
    "#pred_proba = lgb.predict(X_val.drop(['corn_date', 'ticker'], axis=1))\n",
    "\n",
    "plt.plot(pred_proba)\n",
    "plt.show()\n",
    "\n",
    "# pred_proba_2 = lgb_2.predict_proba(X_val.drop(['corn_date', 'ticker'], axis=1))[:, 1]\n",
    "# plt.plot(pred_proba_2)\n",
    "# plt.show()\n",
    "\n",
    "# pred_proba_3 = lgb_3.predict_proba(X_val.drop(['corn_date', 'ticker'], axis=1))[:, 1]\n",
    "# plt.plot(pred_proba_3)"
   ]
  },
  {
   "cell_type": "code",
   "execution_count": null,
   "metadata": {},
   "outputs": [],
   "source": [
    "plt.hist(pred_proba, bins=100)\n",
    "plt.show()"
   ]
  },
  {
   "cell_type": "code",
   "execution_count": null,
   "metadata": {},
   "outputs": [],
   "source": [
    "top_idxs = np.where(pred_proba > 0.7)[0]\n",
    "len(top_idxs)"
   ]
  },
  {
   "cell_type": "code",
   "execution_count": null,
   "metadata": {},
   "outputs": [],
   "source": [
    "y_val.mean(), y_val[top_idxs].mean()"
   ]
  },
  {
   "cell_type": "code",
   "execution_count": null,
   "metadata": {},
   "outputs": [],
   "source": [
    "y_val.mean(), y_val[top_idxs].mean()"
   ]
  },
  {
   "cell_type": "code",
   "execution_count": null,
   "metadata": {},
   "outputs": [],
   "source": [
    "from utils import *\n",
    "\n",
    "y_val_profit = calc_target(val_target_dfs, single_profit_2, target_df_2_one_day_series)"
   ]
  },
  {
   "cell_type": "code",
   "execution_count": null,
   "metadata": {},
   "outputs": [],
   "source": [
    "X_val['profit'] = y_val_profit\n",
    "day_cnt_df = X_val.loc[top_idxs].groupby('corn_date').size().reset_index().rename({0:'cnt_per_day'}, axis=1)\n",
    "X_val = pd.merge(X_val, day_cnt_df, on='corn_date', how='left')\n",
    "X_val['volume'] = 2500000 / X_val['cnt_per_day']\n",
    "X_val['profit_abs'] = X_val['volume'] * X_val['profit']\n",
    "del X_val['cnt_per_day']\n",
    "del X_val['volume']"
   ]
  },
  {
   "cell_type": "code",
   "execution_count": null,
   "metadata": {},
   "outputs": [],
   "source": [
    "X_val.loc[top_idxs].groupby('corn_date')['profit_abs'].sum()"
   ]
  },
  {
   "cell_type": "code",
   "execution_count": null,
   "metadata": {},
   "outputs": [],
   "source": [
    "X_val.loc[top_idxs]['profit_abs'].sum()"
   ]
  },
  {
   "cell_type": "code",
   "execution_count": null,
   "metadata": {},
   "outputs": [],
   "source": [
    "54294.45376124319\n",
    "45058.54288341864"
   ]
  },
  {
   "cell_type": "code",
   "execution_count": null,
   "metadata": {},
   "outputs": [],
   "source": [
    "249540.7438308383\n",
    "238265.8202385087\n",
    "182758.77619388318\n",
    "124229.31720323926\n",
    "91517.8617101984\n",
    "84287.5011097007"
   ]
  },
  {
   "cell_type": "code",
   "execution_count": null,
   "metadata": {},
   "outputs": [],
   "source": [
    "X_day = X_val.loc[top_idxs]\n",
    "X_day = X_day[X_day['corn_date'] == datetime.strptime(\"20190814\", \"%Y%m%d\").date()]"
   ]
  },
  {
   "cell_type": "code",
   "execution_count": null,
   "metadata": {},
   "outputs": [],
   "source": [
    "X_day"
   ]
  },
  {
   "cell_type": "code",
   "execution_count": null,
   "metadata": {},
   "outputs": [],
   "source": [
    "profit"
   ]
  },
  {
   "cell_type": "code",
   "execution_count": null,
   "metadata": {},
   "outputs": [],
   "source": [
    "idx = 237\n",
    "#for idx in top_idxs:\n",
    "corn_date = X_val.loc[idx]['corn_date']\n",
    "ticker = X_val.loc[idx]['ticker']\n",
    "\n",
    "df = ticker2df[ticker]\n",
    "month_series = df_between(df, corn_date - timedelta(days=31), corn_date)['<OPEN>'].values\n",
    "target_series = df_between(df, corn_date, corn_date + timedelta(days=1))['<OPEN>'].values\n",
    "\n",
    "\n",
    "plt.figure(figsize=(25,10))\n",
    "plt.title(ticker)\n",
    "plt.plot(range(len(month_series)), month_series)\n",
    "plt.plot(range(len(month_series), len(month_series) + len(target_series)), target_series)\n",
    "\n",
    "buy_idx, sell_idx, profit = single_profit_2(target_series, return_idxs=True)\n",
    "\n",
    "plt.scatter(len(month_series) + 1, target_series[0], color='k')\n",
    "plt.scatter(len(month_series) + buy_idx, target_series[buy_idx], color='g')\n",
    "plt.scatter(len(month_series) + sell_idx, target_series[sell_idx], color='r')\n",
    "\n",
    "#plt.plot(range(len(month_series), len(month_series) + len(target_series)), y_val_series[84][-8], color='r')\n",
    "\n",
    "\n",
    "\n",
    "\n",
    "plt.show()\n",
    "corn_date"
   ]
  },
  {
   "cell_type": "code",
   "execution_count": null,
   "metadata": {},
   "outputs": [],
   "source": [
    "int(datetime.now().strftime('%H'))"
   ]
  },
  {
   "cell_type": "code",
   "execution_count": null,
   "metadata": {},
   "outputs": [],
   "source": [
    "lgb"
   ]
  },
  {
   "cell_type": "code",
   "execution_count": null,
   "metadata": {},
   "outputs": [],
   "source": [
    "import pickle\n",
    "with open('models/lgb_26_09_thr04.pickle', 'wb') as f:\n",
    "    pickle.dump(lgb, f)"
   ]
  },
  {
   "cell_type": "code",
   "execution_count": null,
   "metadata": {},
   "outputs": [],
   "source": []
  },
  {
   "cell_type": "code",
   "execution_count": null,
   "metadata": {},
   "outputs": [],
   "source": []
  },
  {
   "cell_type": "markdown",
   "metadata": {},
   "source": [
    "# Inference"
   ]
  },
  {
   "cell_type": "code",
   "execution_count": null,
   "metadata": {},
   "outputs": [],
   "source": [
    "train_dates = [datetime.today().date() - timedelta(days=x) for x in range(1, 100)]"
   ]
  },
  {
   "cell_type": "code",
   "execution_count": null,
   "metadata": {},
   "outputs": [],
   "source": [
    "X_train, y_train_series = all_samples(ticker2df, train_dates)\n"
   ]
  },
  {
   "cell_type": "code",
   "execution_count": null,
   "metadata": {},
   "outputs": [],
   "source": [
    "y_train_profit = calc_target(y_train_series, single_profit_2) \n",
    "\n",
    "y_train = calc_target(y_train_series, single_target_3) > 0.01\n",
    "\n",
    "lgb = lgbm.sklearn.LGBMClassifier()\n",
    "lgb.fit(X_train.drop(['corn_date', 'ticker'], axis=1), y_train)"
   ]
  },
  {
   "cell_type": "code",
   "execution_count": null,
   "metadata": {},
   "outputs": [],
   "source": [
    "test_start_day"
   ]
  },
  {
   "cell_type": "code",
   "execution_count": null,
   "metadata": {},
   "outputs": [],
   "source": [
    "load_tickers(data_prefix=\"data/current\", tickers=np.array(list(ibkr_info.keys())), start_date=datetime.today().date() - timedelta(days=40), end_date=datetime.today().date(), period=3)"
   ]
  },
  {
   "cell_type": "code",
   "execution_count": null,
   "metadata": {},
   "outputs": [],
   "source": [
    "ticker2df_test = load_dfs('data/current', np.array(list(ibkr_info.keys())))"
   ]
  },
  {
   "cell_type": "code",
   "execution_count": null,
   "metadata": {},
   "outputs": [],
   "source": [
    "X_test, y_test_series = all_samples(ticker2df_test, [datetime.today().date()], test_mode=True)"
   ]
  },
  {
   "cell_type": "code",
   "execution_count": null,
   "metadata": {},
   "outputs": [],
   "source": [
    "import pickle\n",
    "with open('models/lgb_26_09_thr04.pickle', 'rb') as f:\n",
    "    lgb = pickle.load(f)"
   ]
  },
  {
   "cell_type": "code",
   "execution_count": null,
   "metadata": {},
   "outputs": [],
   "source": [
    "X_test"
   ]
  },
  {
   "cell_type": "code",
   "execution_count": null,
   "metadata": {},
   "outputs": [],
   "source": [
    "# del X_test['profit']\n",
    "# del X_test['profit_abs']"
   ]
  },
  {
   "cell_type": "code",
   "execution_count": null,
   "metadata": {},
   "outputs": [],
   "source": [
    "pred_proba = lgb.predict_proba(X_test.drop(['corn_date', 'ticker'], axis=1))[:, 1]\n",
    "plt.plot(pred_proba)\n",
    "plt.show()\n"
   ]
  },
  {
   "cell_type": "code",
   "execution_count": null,
   "metadata": {},
   "outputs": [],
   "source": [
    "16990000 * 0.039235"
   ]
  },
  {
   "cell_type": "code",
   "execution_count": null,
   "metadata": {},
   "outputs": [],
   "source": [
    "top_idxs = np.where(pred_proba > 0.25)[0]\n",
    "top_idxs"
   ]
  },
  {
   "cell_type": "code",
   "execution_count": null,
   "metadata": {},
   "outputs": [],
   "source": [
    "ticker2price = {}\n",
    "\n",
    "for ticker in list(X_test.loc[top_idxs, ['ticker', 'corn_date']]['ticker'].values):\n",
    "    \n",
    "    df = ticker2df_test[ticker]\n",
    "    price = df[df['date']==datetime.today().date()]['<OPEN>'].values[0]\n",
    "    \n",
    "    ticker2price[ticker] = price\n",
    "\n",
    "\n",
    "ticker2price"
   ]
  },
  {
   "cell_type": "code",
   "execution_count": null,
   "metadata": {},
   "outputs": [],
   "source": [
    "y_test_profit = calc_target(y_test_series, single_profit_2)"
   ]
  },
  {
   "cell_type": "code",
   "execution_count": null,
   "metadata": {},
   "outputs": [],
   "source": [
    "X_test['profit'] = y_test_profit\n",
    "day_cnt_df = X_test.loc[top_idxs].groupby('corn_date').size().reset_index().rename({0:'cnt_per_day'}, axis=1)\n",
    "X_test = pd.merge(X_test, day_cnt_df, on='corn_date', how='left')\n",
    "X_test['volume'] = 2000000 / X_test['cnt_per_day']\n",
    "X_test['profit_abs'] = X_test['volume'] * X_test['profit']\n",
    "del X_test['cnt_per_day']\n",
    "del X_test['volume']"
   ]
  },
  {
   "cell_type": "code",
   "execution_count": null,
   "metadata": {},
   "outputs": [],
   "source": [
    "top_idxs"
   ]
  },
  {
   "cell_type": "code",
   "execution_count": null,
   "metadata": {},
   "outputs": [],
   "source": [
    "X_test.loc[top_idxs, ['ticker', 'corn_date']]"
   ]
  },
  {
   "cell_type": "code",
   "execution_count": null,
   "metadata": {
    "scrolled": true
   },
   "outputs": [],
   "source": [
    "X_test.loc[top_idxs, ['ticker', 'corn_date', 'profit', 'profit_abs']]"
   ]
  },
  {
   "cell_type": "code",
   "execution_count": null,
   "metadata": {},
   "outputs": [],
   "source": [
    "X_test.loc[top_idxs, ['profit']].sum()"
   ]
  },
  {
   "cell_type": "code",
   "execution_count": null,
   "metadata": {},
   "outputs": [],
   "source": [
    "X_test.loc[top_idxs, ['profit_abs']].sum()"
   ]
  },
  {
   "cell_type": "code",
   "execution_count": null,
   "metadata": {},
   "outputs": [],
   "source": [
    "idx = 20\n",
    "#for idx in top_idxs:\n",
    "corn_date = X_test.loc[idx]['corn_date']\n",
    "ticker = X_test.loc[idx]['ticker']\n",
    "\n",
    "df = ticker2df_test[ticker]\n",
    "month_series = df_between(df, corn_date - timedelta(days=31), corn_date)['<OPEN>'].values\n",
    "target_series = df_between(df, corn_date, corn_date + timedelta(days=1))['<OPEN>'].values\n",
    "\n",
    "\n",
    "plt.figure(figsize=(25,10))\n",
    "plt.title(ticker)\n",
    "plt.plot(range(len(month_series)), month_series)\n",
    "plt.plot(range(len(month_series), len(month_series) + len(target_series)), target_series)\n",
    "\n",
    "buy_idx, sell_idx = single_profit_2(np.array([0] + list(target_series)), return_idxs=True)\n",
    "plt.scatter(len(month_series) + 1, target_series[0], color='k')\n",
    "plt.scatter(len(month_series) + buy_idx - 1, target_series[buy_idx - 1], color='g')\n",
    "plt.scatter(len(month_series) + sell_idx - 1, target_series[sell_idx - 1], color='r')\n",
    "\n",
    "#plt.plot(range(len(month_series), len(month_series) + len(target_series)), y_val_series[84][-8], color='r')\n",
    "\n",
    "# plt.axhline(y=11.573, linewidth=4, color='g')\n",
    "# plt.axhline(y=11.675, linewidth=4, color='r')\n",
    "\n",
    "\n",
    "\n",
    "plt.show()\n",
    "\n"
   ]
  },
  {
   "cell_type": "code",
   "execution_count": null,
   "metadata": {},
   "outputs": [],
   "source": []
  },
  {
   "cell_type": "code",
   "execution_count": null,
   "metadata": {},
   "outputs": [],
   "source": []
  },
  {
   "cell_type": "code",
   "execution_count": null,
   "metadata": {},
   "outputs": [],
   "source": []
  },
  {
   "cell_type": "code",
   "execution_count": null,
   "metadata": {},
   "outputs": [],
   "source": [
    "    series = np.array([0] + list(target_series))\n",
    "    UPPER_COEF = 1.003\n",
    "    BUY_HORIZON = 118\n",
    "    can_buy = (series[2:BUY_HORIZON] <= series[1]*UPPER_COEF).max()"
   ]
  },
  {
   "cell_type": "code",
   "execution_count": null,
   "metadata": {},
   "outputs": [],
   "source": [
    "can_buy"
   ]
  },
  {
   "cell_type": "code",
   "execution_count": null,
   "metadata": {},
   "outputs": [],
   "source": [
    "series[2:BUY_HORIZON] <= series[1]*UPPER_COEF"
   ]
  },
  {
   "cell_type": "code",
   "execution_count": null,
   "metadata": {},
   "outputs": [],
   "source": [
    "series"
   ]
  },
  {
   "cell_type": "code",
   "execution_count": null,
   "metadata": {},
   "outputs": [],
   "source": []
  },
  {
   "cell_type": "code",
   "execution_count": null,
   "metadata": {},
   "outputs": [],
   "source": []
  },
  {
   "cell_type": "code",
   "execution_count": null,
   "metadata": {},
   "outputs": [],
   "source": []
  },
  {
   "cell_type": "code",
   "execution_count": null,
   "metadata": {},
   "outputs": [],
   "source": []
  },
  {
   "cell_type": "code",
   "execution_count": null,
   "metadata": {},
   "outputs": [],
   "source": []
  },
  {
   "cell_type": "code",
   "execution_count": null,
   "metadata": {},
   "outputs": [],
   "source": []
  },
  {
   "cell_type": "code",
   "execution_count": null,
   "metadata": {},
   "outputs": [],
   "source": []
  },
  {
   "cell_type": "code",
   "execution_count": null,
   "metadata": {},
   "outputs": [],
   "source": []
  },
  {
   "cell_type": "code",
   "execution_count": null,
   "metadata": {},
   "outputs": [],
   "source": [
    "datetime.datetime.now().strftime('%Y-%m-%d %H:%M:%S')"
   ]
  },
  {
   "cell_type": "code",
   "execution_count": null,
   "metadata": {},
   "outputs": [],
   "source": []
  },
  {
   "cell_type": "code",
   "execution_count": null,
   "metadata": {},
   "outputs": [],
   "source": []
  },
  {
   "cell_type": "code",
   "execution_count": null,
   "metadata": {},
   "outputs": [],
   "source": [
    "data_prefix='data/train'\n",
    "start_date=datetime.today().date() - timedelta(days=1)\n",
    "end_date = datetime.today().date() + timedelta(days=1)\n",
    "\n",
    "ticker='LKOH'\n",
    "load_single(ticker, 'data/temp', start_date, end_date, 3)\n",
    "\n",
    "\n",
    "df = pd.read_csv('data/train/{}.csv'.format(ticker))\n",
    "df['date'] = df['<DATE>'].apply(lambda x: datetime.strptime(str(x), \"%Y%m%d\").date())\n",
    "\n",
    "upd_df = pd.read_csv('data/temp/{}.csv'.format(ticker))\n",
    "upd_df['date'] = upd_df['<DATE>'].apply(lambda x: datetime.strptime(str(x), \"%Y%m%d\").date())"
   ]
  },
  {
   "cell_type": "code",
   "execution_count": null,
   "metadata": {},
   "outputs": [],
   "source": []
  },
  {
   "cell_type": "code",
   "execution_count": null,
   "metadata": {},
   "outputs": [],
   "source": [
    "                                                                                "
   ]
  },
  {
   "cell_type": "code",
   "execution_count": null,
   "metadata": {},
   "outputs": [],
   "source": []
  },
  {
   "cell_type": "code",
   "execution_count": null,
   "metadata": {},
   "outputs": [],
   "source": []
  },
  {
   "cell_type": "code",
   "execution_count": null,
   "metadata": {},
   "outputs": [],
   "source": []
  },
  {
   "cell_type": "code",
   "execution_count": null,
   "metadata": {},
   "outputs": [],
   "source": []
  }
 ],
 "metadata": {
  "kernelspec": {
   "display_name": "Python 3",
   "language": "python",
   "name": "python3"
  },
  "language_info": {
   "codemirror_mode": {
    "name": "ipython",
    "version": 3
   },
   "file_extension": ".py",
   "mimetype": "text/x-python",
   "name": "python",
   "nbconvert_exporter": "python",
   "pygments_lexer": "ipython3",
   "version": "3.6.9"
  }
 },
 "nbformat": 4,
 "nbformat_minor": 2
}
