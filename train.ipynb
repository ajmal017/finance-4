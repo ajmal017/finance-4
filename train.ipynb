{
 "cells": [
  {
   "cell_type": "code",
   "execution_count": 130,
   "metadata": {},
   "outputs": [
    {
     "data": {
      "text/html": [
       "<style>.container { width:100% !important; }</style>"
      ],
      "text/plain": [
       "<IPython.core.display.HTML object>"
      ]
     },
     "metadata": {},
     "output_type": "display_data"
    }
   ],
   "source": [
    "from IPython.core.display import display, HTML\n",
    "display(HTML(\"<style>.container { width:100% !important; }</style>\"))"
   ]
  },
  {
   "cell_type": "code",
   "execution_count": 4,
   "metadata": {},
   "outputs": [
    {
     "name": "stdout",
     "output_type": "stream",
     "text": [
      "Collecting seaborn\n",
      "\u001b[?25l  Downloading https://files.pythonhosted.org/packages/a8/76/220ba4420459d9c4c9c9587c6ce607bf56c25b3d3d2de62056efe482dadc/seaborn-0.9.0-py3-none-any.whl (208kB)\n",
      "\u001b[K    100% |████████████████████████████████| 215kB 14.9MB/s ta 0:00:01\n",
      "\u001b[?25hRequirement already satisfied: matplotlib>=1.4.3 in /usr/local/lib/python3.5/dist-packages (from seaborn) (3.0.2)\n",
      "Requirement already satisfied: scipy>=0.14.0 in /usr/local/lib/python3.5/dist-packages (from seaborn) (1.2.1)\n",
      "Requirement already satisfied: numpy>=1.9.3 in /usr/local/lib/python3.5/dist-packages (from seaborn) (1.16.2)\n",
      "Requirement already satisfied: pandas>=0.15.2 in /usr/local/lib/python3.5/dist-packages (from seaborn) (0.23.4)\n",
      "Requirement already satisfied: pyparsing!=2.0.4,!=2.1.2,!=2.1.6,>=2.0.1 in /usr/local/lib/python3.5/dist-packages (from matplotlib>=1.4.3->seaborn) (2.3.1)\n",
      "Requirement already satisfied: python-dateutil>=2.1 in /usr/local/lib/python3.5/dist-packages (from matplotlib>=1.4.3->seaborn) (2.8.0)\n",
      "Requirement already satisfied: kiwisolver>=1.0.1 in /usr/local/lib/python3.5/dist-packages (from matplotlib>=1.4.3->seaborn) (1.0.1)\n",
      "Requirement already satisfied: cycler>=0.10 in /usr/local/lib/python3.5/dist-packages (from matplotlib>=1.4.3->seaborn) (0.10.0)\n",
      "Requirement already satisfied: pytz>=2011k in /usr/local/lib/python3.5/dist-packages (from pandas>=0.15.2->seaborn) (2019.1)\n",
      "Requirement already satisfied: six>=1.5 in /usr/local/lib/python3.5/dist-packages (from python-dateutil>=2.1->matplotlib>=1.4.3->seaborn) (1.12.0)\n",
      "Requirement already satisfied: setuptools in /usr/local/lib/python3.5/dist-packages (from kiwisolver>=1.0.1->matplotlib>=1.4.3->seaborn) (40.8.0)\n",
      "Installing collected packages: seaborn\n",
      "Successfully installed seaborn-0.9.0\n",
      "\u001b[33mYou are using pip version 19.0.3, however version 19.2.1 is available.\n",
      "You should consider upgrading via the 'pip install --upgrade pip' command.\u001b[0m\n"
     ]
    }
   ],
   "source": [
    "!pip3 install seaborn"
   ]
  },
  {
   "cell_type": "code",
   "execution_count": 312,
   "metadata": {},
   "outputs": [
    {
     "name": "stdout",
     "output_type": "stream",
     "text": [
      "The autoreload extension is already loaded. To reload it, use:\n",
      "  %reload_ext autoreload\n"
     ]
    }
   ],
   "source": [
    "%load_ext autoreload\n",
    "%autoreload 2\n",
    "from utils import *\n",
    "\n",
    "import numpy as np\n",
    "import pandas as pd\n",
    "from tqdm import tqdm\n",
    "from datetime import datetime\n",
    "from datetime import timedelta\n",
    "import matplotlib.pyplot as plt\n",
    "import os\n",
    "import lightgbm as lgbm\n",
    "import warnings\n",
    "from utils import *\n",
    "import seaborn as sns\n",
    "from sklearn.metrics import accuracy_score\n",
    "from parameters import top_tickers, ibkr_info\n",
    "\n",
    "sns.set()\n",
    "\n",
    "warnings.filterwarnings('ignore')"
   ]
  },
  {
   "cell_type": "code",
   "execution_count": 8,
   "metadata": {},
   "outputs": [
    {
     "data": {
      "text/plain": [
       "array(['RNFT', 'PHOR', 'CBOM', 'POLY', 'TATNP', 'RTKM', 'PLZL', 'DSKY',\n",
       "       'SFIN', 'IRAO', 'HYDR', 'RUAL', 'SNGSP', 'LKOH', 'MTLR', 'CHMF',\n",
       "       'MVID', 'TATN', 'ALRS', 'MTSS', 'MGNT', 'NLMK', 'GAZP', 'GMKN',\n",
       "       'YNDX', 'AFLT', 'AFKS', 'TRMK', 'MAGN', 'SNGS', 'FIVE', 'PIKK',\n",
       "       'FEES', 'MOEX'], dtype='<U5')"
      ]
     },
     "execution_count": 8,
     "metadata": {},
     "output_type": "execute_result"
    }
   ],
   "source": [
    "np.array(list(ibkr_info.keys()))"
   ]
  },
  {
   "cell_type": "code",
   "execution_count": 36,
   "metadata": {},
   "outputs": [
    {
     "name": "stderr",
     "output_type": "stream",
     "text": [
      "100%|██████████| 30/30 [09:35<00:00, 19.04s/it]\n"
     ]
    }
   ],
   "source": [
    "load_tickers(data_prefix=\"data/train\", tickers=np.array(list(ibkr_info.keys())), start_date=datetime.strptime(\"20170101\", \"%Y%m%d\").date(), end_date=datetime.today().date() + timedelta(days=1), period=3)"
   ]
  },
  {
   "cell_type": "code",
   "execution_count": 3,
   "metadata": {},
   "outputs": [],
   "source": [
    "ticker2df = load_dfs('data/train', np.array(list(ibkr_info.keys())))"
   ]
  },
  {
   "cell_type": "code",
   "execution_count": 371,
   "metadata": {},
   "outputs": [],
   "source": [
    "test_start_day = datetime.today().date() - timedelta(days=30)\n",
    "\n",
    "train_dates = [test_start_day - timedelta(days=x) for x in range(1, 500)]\n",
    "val_dates = [test_start_day + timedelta(days=x) for x in range(0, 30)]"
   ]
  },
  {
   "cell_type": "code",
   "execution_count": 372,
   "metadata": {},
   "outputs": [],
   "source": [
    "X_train, train_target_dfs = all_samples(ticker2df, train_dates)\n",
    "X_val, val_target_dfs = all_samples(ticker2df, val_dates)"
   ]
  },
  {
   "cell_type": "code",
   "execution_count": 315,
   "metadata": {},
   "outputs": [
    {
     "data": {
      "text/plain": [
       "(2040, 129)"
      ]
     },
     "execution_count": 315,
     "metadata": {},
     "output_type": "execute_result"
    }
   ],
   "source": [
    "X_train.shape"
   ]
  },
  {
   "cell_type": "code",
   "execution_count": 382,
   "metadata": {},
   "outputs": [
    {
     "data": {
      "text/plain": [
       "LGBMClassifier(boosting_type='gbdt', class_weight=None, colsample_bytree=1.0,\n",
       "        importance_type='split', learning_rate=0.1, max_depth=-1,\n",
       "        min_child_samples=20, min_child_weight=0.001, min_split_gain=0.0,\n",
       "        n_estimators=100, n_jobs=-1, num_leaves=31, objective=None,\n",
       "        random_state=None, reg_alpha=0.0, reg_lambda=0.0, silent=True,\n",
       "        subsample=1.0, subsample_for_bin=200000, subsample_freq=0)"
      ]
     },
     "execution_count": 382,
     "metadata": {},
     "output_type": "execute_result"
    }
   ],
   "source": [
    "y_train_profit = calc_target(train_target_dfs, single_profit_2, target_df_2_one_day_series)\n",
    "y_val_profit = calc_target(val_target_dfs, single_profit_2, target_df_2_one_day_series)\n",
    "\n",
    "y_train = calc_target(train_target_dfs, single_target_3, target_df_2_half_day_series) > 0.01\n",
    "y_val = calc_target(val_target_dfs, single_target_3, target_df_2_half_day_series) > 0.01\n",
    "\n",
    "lgb = lgbm.sklearn.LGBMClassifier()\n",
    "lgb.fit(X_train.drop(['corn_date', 'ticker'], axis=1), y_train)"
   ]
  },
  {
   "cell_type": "code",
   "execution_count": 383,
   "metadata": {},
   "outputs": [
    {
     "data": {
      "text/plain": [
       "array([113,  28,  23,  37,  35,  23,  22,  30,  19,  32,  25,  16,  24,\n",
       "        34,  25,  31,  19,  37,  48,   9,  12,  40,  45,  33,  20,  62,\n",
       "        68,  24,  35,  12,  32,  24,  21,  18,  26,  25,  20,  42,  28,\n",
       "        16,  24,   7,  23,  16,  19,  26,  25,  14,  13,  14,  23,   8,\n",
       "        11,  22,  21,  11,   5,  16,  15,   7,   0,  14,   3,   4,  14,\n",
       "        10,   0,  12,   5,   0,  17,  25,   0,  25,  24,  27,  15,  11,\n",
       "        13,  16,   8,  16,  35,  24,   0,  21,  24,  20,  24,  17,  33,\n",
       "        17,  34,  28,  25,  18,  32,  28,  20,  16,  16,  26,  38,  39,\n",
       "        30,  23,  18,  25,  25,  35,  19,  28,  24,  16,  24,  34,  37,\n",
       "        26,  26,  31,  29,  30,  43,  33,  19,  45,  33])"
      ]
     },
     "execution_count": 383,
     "metadata": {},
     "output_type": "execute_result"
    }
   ],
   "source": [
    "lgb.feature_importances_"
   ]
  },
  {
   "cell_type": "code",
   "execution_count": 375,
   "metadata": {},
   "outputs": [
    {
     "data": {
      "image/png": "[encoded data removed]",
      "text/plain": [
       "<Figure size 432x288 with 1 Axes>"
      ]
     },
     "metadata": {},
     "output_type": "display_data"
    }
   ],
   "source": [
    "try:\n",
    "    del X_val['profit']\n",
    "    del X_val['profit_abs']\n",
    "except:\n",
    "    None\n",
    "\n",
    "pred_proba = lgb.predict_proba(X_val.drop(['corn_date', 'ticker'], axis=1))[:, 1]\n",
    "#pred_proba = lgb.predict(X_val.drop(['corn_date', 'ticker'], axis=1))\n",
    "\n",
    "plt.plot(pred_proba)\n",
    "plt.show()\n",
    "\n",
    "# pred_proba_2 = lgb_2.predict_proba(X_val.drop(['corn_date', 'ticker'], axis=1))[:, 1]\n",
    "# plt.plot(pred_proba_2)\n",
    "# plt.show()\n",
    "\n",
    "# pred_proba_3 = lgb_3.predict_proba(X_val.drop(['corn_date', 'ticker'], axis=1))[:, 1]\n",
    "# plt.plot(pred_proba_3)"
   ]
  },
  {
   "cell_type": "code",
   "execution_count": 376,
   "metadata": {},
   "outputs": [
    {
     "data": {
      "image/png": "[encoded data removed]",
      "text/plain": [
       "<Figure size 432x288 with 1 Axes>"
      ]
     },
     "metadata": {},
     "output_type": "display_data"
    }
   ],
   "source": [
    "plt.hist(pred_proba, bins=100)\n",
    "plt.show()"
   ]
  },
  {
   "cell_type": "code",
   "execution_count": 377,
   "metadata": {},
   "outputs": [
    {
     "data": {
      "text/plain": [
       "63"
      ]
     },
     "execution_count": 377,
     "metadata": {},
     "output_type": "execute_result"
    }
   ],
   "source": [
    "top_idxs = np.where(pred_proba > 0.5)[0]\n",
    "len(top_idxs)"
   ]
  },
  {
   "cell_type": "code",
   "execution_count": 378,
   "metadata": {},
   "outputs": [
    {
     "data": {
      "text/plain": [
       "(0.33174603174603173, 0.4444444444444444)"
      ]
     },
     "execution_count": 378,
     "metadata": {},
     "output_type": "execute_result"
    }
   ],
   "source": [
    "y_val.mean(), y_val[top_idxs].mean()"
   ]
  },
  {
   "cell_type": "code",
   "execution_count": 621,
   "metadata": {},
   "outputs": [
    {
     "data": {
      "text/plain": [
       "(0.14666666666666667, 0.5625)"
      ]
     },
     "execution_count": 621,
     "metadata": {},
     "output_type": "execute_result"
    }
   ],
   "source": [
    "y_val.mean(), y_val[top_idxs].mean()"
   ]
  },
  {
   "cell_type": "code",
   "execution_count": 379,
   "metadata": {},
   "outputs": [],
   "source": [
    "X_val['profit'] = y_val_profit\n",
    "day_cnt_df = X_val.loc[top_idxs].groupby('corn_date').size().reset_index().rename({0:'cnt_per_day'}, axis=1)\n",
    "X_val = pd.merge(X_val, day_cnt_df, on='corn_date', how='left')\n",
    "X_val['volume'] = 2500000 / X_val['cnt_per_day']\n",
    "X_val['profit_abs'] = X_val['volume'] * X_val['profit']\n",
    "del X_val['cnt_per_day']\n",
    "del X_val['volume']"
   ]
  },
  {
   "cell_type": "code",
   "execution_count": 380,
   "metadata": {},
   "outputs": [
    {
     "data": {
      "text/plain": [
       "corn_date\n",
       "2019-08-06    14269.617178\n",
       "2019-08-07   -33687.724070\n",
       "2019-08-08    -7230.237355\n",
       "2019-08-09   -22432.778843\n",
       "2019-08-12        0.000000\n",
       "2019-08-13   -15764.582239\n",
       "2019-08-14   -29303.495763\n",
       "2019-08-15   -20637.879136\n",
       "2019-08-16   -22879.106514\n",
       "2019-08-19      509.909802\n",
       "2019-08-20    -1070.390599\n",
       "2019-08-21    10802.867763\n",
       "2019-08-22   -42039.355993\n",
       "2019-08-23   -30463.922012\n",
       "2019-08-26    20000.000000\n",
       "2019-08-27   -21642.892277\n",
       "2019-08-28    27050.717804\n",
       "2019-08-29    30000.000000\n",
       "2019-09-02        0.000000\n",
       "2019-09-03    -6780.460585\n",
       "Name: profit_abs, dtype: float64"
      ]
     },
     "execution_count": 380,
     "metadata": {},
     "output_type": "execute_result"
    }
   ],
   "source": [
    "X_val.loc[top_idxs].groupby('corn_date')['profit_abs'].sum()"
   ]
  },
  {
   "cell_type": "code",
   "execution_count": 381,
   "metadata": {},
   "outputs": [
    {
     "data": {
      "text/plain": [
       "-151299.71283786336"
      ]
     },
     "execution_count": 381,
     "metadata": {},
     "output_type": "execute_result"
    }
   ],
   "source": [
    "X_val.loc[top_idxs]['profit_abs'].sum()"
   ]
  },
  {
   "cell_type": "code",
   "execution_count": null,
   "metadata": {},
   "outputs": [],
   "source": [
    "104962.15800748912"
   ]
  },
  {
   "cell_type": "code",
   "execution_count": 161,
   "metadata": {},
   "outputs": [
    {
     "data": {
      "text/plain": [
       "0.0113168"
      ]
     },
     "execution_count": 161,
     "metadata": {},
     "output_type": "execute_result"
    }
   ],
   "source": [
    "28292 / 2500000"
   ]
  },
  {
   "cell_type": "code",
   "execution_count": 22,
   "metadata": {},
   "outputs": [
    {
     "data": {
      "text/plain": [
       "-205164.9234591169"
      ]
     },
     "execution_count": 22,
     "metadata": {},
     "output_type": "execute_result"
    }
   ],
   "source": [
    "X_val.loc[top_idxs]['profit_abs'].sum()"
   ]
  },
  {
   "cell_type": "code",
   "execution_count": null,
   "metadata": {},
   "outputs": [],
   "source": [
    "249540.7438308383\n",
    "238265.8202385087\n",
    "182758.77619388318\n",
    "124229.31720323926\n",
    "91517.8617101984\n",
    "84287.5011097007"
   ]
  },
  {
   "cell_type": "code",
   "execution_count": 325,
   "metadata": {},
   "outputs": [],
   "source": [
    "X_day = X_val.loc[top_idxs]\n",
    "X_day = X_day[X_day['corn_date'] == datetime.strptime(\"20190830\", \"%Y%m%d\").date()]"
   ]
  },
  {
   "cell_type": "code",
   "execution_count": 326,
   "metadata": {},
   "outputs": [
    {
     "data": {
      "text/html": [
       "<div>\n",
       "<style scoped>\n",
       "    .dataframe tbody tr th:only-of-type {\n",
       "        vertical-align: middle;\n",
       "    }\n",
       "\n",
       "    .dataframe tbody tr th {\n",
       "        vertical-align: top;\n",
       "    }\n",
       "\n",
       "    .dataframe thead th {\n",
       "        text-align: right;\n",
       "    }\n",
       "</style>\n",
       "<table border=\"1\" class=\"dataframe\">\n",
       "  <thead>\n",
       "    <tr style=\"text-align: right;\">\n",
       "      <th></th>\n",
       "      <th>0</th>\n",
       "      <th>1</th>\n",
       "      <th>2</th>\n",
       "      <th>3</th>\n",
       "      <th>4</th>\n",
       "      <th>5</th>\n",
       "      <th>6</th>\n",
       "      <th>7</th>\n",
       "      <th>8</th>\n",
       "      <th>9</th>\n",
       "      <th>...</th>\n",
       "      <th>121</th>\n",
       "      <th>122</th>\n",
       "      <th>123</th>\n",
       "      <th>124</th>\n",
       "      <th>125</th>\n",
       "      <th>126</th>\n",
       "      <th>ticker</th>\n",
       "      <th>corn_date</th>\n",
       "      <th>profit</th>\n",
       "      <th>profit_abs</th>\n",
       "    </tr>\n",
       "  </thead>\n",
       "  <tbody>\n",
       "    <tr>\n",
       "      <th>375</th>\n",
       "      <td>0.0</td>\n",
       "      <td>0.052661</td>\n",
       "      <td>0.975007</td>\n",
       "      <td>0.869956</td>\n",
       "      <td>0.980296</td>\n",
       "      <td>0.201135</td>\n",
       "      <td>-0.03058</td>\n",
       "      <td>0.033445</td>\n",
       "      <td>1.064953</td>\n",
       "      <td>0.98625</td>\n",
       "      <td>...</td>\n",
       "      <td>0.001198</td>\n",
       "      <td>-0.005844</td>\n",
       "      <td>0.00805</td>\n",
       "      <td>0.004961</td>\n",
       "      <td>0.001294</td>\n",
       "      <td>0.00412</td>\n",
       "      <td>MTLR</td>\n",
       "      <td>2019-08-30</td>\n",
       "      <td>-0.026669</td>\n",
       "      <td>-66672.120419</td>\n",
       "    </tr>\n",
       "  </tbody>\n",
       "</table>\n",
       "<p>1 rows × 131 columns</p>\n",
       "</div>"
      ],
      "text/plain": [
       "       0         1         2         3         4         5        6         7  \\\n",
       "375  0.0  0.052661  0.975007  0.869956  0.980296  0.201135 -0.03058  0.033445   \n",
       "\n",
       "            8        9      ...            121       122      123       124  \\\n",
       "375  1.064953  0.98625      ...       0.001198 -0.005844  0.00805  0.004961   \n",
       "\n",
       "          125      126  ticker   corn_date    profit    profit_abs  \n",
       "375  0.001294  0.00412    MTLR  2019-08-30 -0.026669 -66672.120419  \n",
       "\n",
       "[1 rows x 131 columns]"
      ]
     },
     "execution_count": 326,
     "metadata": {},
     "output_type": "execute_result"
    }
   ],
   "source": [
    "X_day"
   ]
  },
  {
   "cell_type": "code",
   "execution_count": 327,
   "metadata": {},
   "outputs": [
    {
     "data": {
      "image/png": "[encoded data removed]",
      "text/plain": [
       "<Figure size 1800x720 with 1 Axes>"
      ]
     },
     "metadata": {},
     "output_type": "display_data"
    },
    {
     "data": {
      "text/plain": [
       "datetime.date(2019, 8, 30)"
      ]
     },
     "execution_count": 327,
     "metadata": {},
     "output_type": "execute_result"
    }
   ],
   "source": [
    "idx = 375\n",
    "#for idx in top_idxs:\n",
    "corn_date = X_val.loc[idx]['corn_date']\n",
    "ticker = X_val.loc[idx]['ticker']\n",
    "\n",
    "df = ticker2df[ticker]\n",
    "month_series = df_between(df, corn_date - timedelta(days=31), corn_date)['<OPEN>'].values\n",
    "target_series = df_between(df, corn_date, corn_date + timedelta(days=3))['<OPEN>'].values\n",
    "\n",
    "\n",
    "plt.figure(figsize=(25,10))\n",
    "plt.title(ticker)\n",
    "plt.plot(range(len(month_series)), month_series)\n",
    "plt.plot(range(len(month_series), len(month_series) + len(target_series)), target_series)\n",
    "\n",
    "buy_idx, sell_idx = single_profit_2(np.array([0] + list(target_series)), return_idxs=True)\n",
    "plt.scatter(len(month_series) + 1, target_series[0], color='k')\n",
    "plt.scatter(len(month_series) + buy_idx - 1, target_series[buy_idx - 1], color='g')\n",
    "plt.scatter(len(month_series) + sell_idx - 1, target_series[sell_idx - 1], color='r')\n",
    "\n",
    "#plt.plot(range(len(month_series), len(month_series) + len(target_series)), y_val_series[84][-8], color='r')\n",
    "\n",
    "\n",
    "\n",
    "\n",
    "plt.show()\n",
    "corn_date"
   ]
  },
  {
   "cell_type": "code",
   "execution_count": 658,
   "metadata": {},
   "outputs": [
    {
     "data": {
      "text/plain": [
       "20"
      ]
     },
     "execution_count": 658,
     "metadata": {},
     "output_type": "execute_result"
    }
   ],
   "source": [
    "int(datetime.now().strftime('%H'))"
   ]
  },
  {
   "cell_type": "code",
   "execution_count": 659,
   "metadata": {},
   "outputs": [
    {
     "data": {
      "text/plain": [
       "LGBMClassifier(boosting_type='gbdt', class_weight=None, colsample_bytree=1.0,\n",
       "        importance_type='split', learning_rate=0.1, max_depth=-1,\n",
       "        min_child_samples=20, min_child_weight=0.001, min_split_gain=0.0,\n",
       "        n_estimators=100, n_jobs=-1, num_leaves=31, objective=None,\n",
       "        random_state=None, reg_alpha=0.0, reg_lambda=0.0, silent=True,\n",
       "        subsample=1.0, subsample_for_bin=200000, subsample_freq=0)"
      ]
     },
     "execution_count": 659,
     "metadata": {},
     "output_type": "execute_result"
    }
   ],
   "source": [
    "lgb"
   ]
  },
  {
   "cell_type": "code",
   "execution_count": 662,
   "metadata": {},
   "outputs": [],
   "source": [
    "import pickle\n",
    "with open('models/lgb_26_09_thr04.pickle', 'wb') as f:\n",
    "    pickle.dump(lgb, f)"
   ]
  },
  {
   "cell_type": "code",
   "execution_count": null,
   "metadata": {},
   "outputs": [],
   "source": []
  },
  {
   "cell_type": "code",
   "execution_count": null,
   "metadata": {},
   "outputs": [],
   "source": []
  },
  {
   "cell_type": "markdown",
   "metadata": {},
   "source": [
    "# Inference"
   ]
  },
  {
   "cell_type": "code",
   "execution_count": 810,
   "metadata": {},
   "outputs": [],
   "source": [
    "train_dates = [datetime.today().date() - timedelta(days=x) for x in range(1, 100)]"
   ]
  },
  {
   "cell_type": "code",
   "execution_count": 811,
   "metadata": {},
   "outputs": [],
   "source": [
    "X_train, y_train_series = all_samples(ticker2df, train_dates)\n"
   ]
  },
  {
   "cell_type": "code",
   "execution_count": null,
   "metadata": {},
   "outputs": [],
   "source": [
    "y_train_profit = calc_target(y_train_series, single_profit_2) \n",
    "\n",
    "y_train = calc_target(y_train_series, single_target_3) > 0.01\n",
    "\n",
    "lgb = lgbm.sklearn.LGBMClassifier()\n",
    "lgb.fit(X_train.drop(['corn_date', 'ticker'], axis=1), y_train)"
   ]
  },
  {
   "cell_type": "code",
   "execution_count": 48,
   "metadata": {},
   "outputs": [
    {
     "data": {
      "text/plain": [
       "datetime.date(2019, 7, 4)"
      ]
     },
     "execution_count": 48,
     "metadata": {},
     "output_type": "execute_result"
    }
   ],
   "source": [
    "test_start_day"
   ]
  },
  {
   "cell_type": "code",
   "execution_count": 19,
   "metadata": {},
   "outputs": [
    {
     "name": "stderr",
     "output_type": "stream",
     "text": [
      "100%|██████████| 30/30 [00:47<00:00,  1.51s/it]\n"
     ]
    }
   ],
   "source": [
    "load_tickers(data_prefix=\"data/current\", tickers=np.array(list(ibkr_info.keys())), start_date=datetime.today().date() - timedelta(days=40), end_date=datetime.today().date(), period=3)"
   ]
  },
  {
   "cell_type": "code",
   "execution_count": 20,
   "metadata": {},
   "outputs": [],
   "source": [
    "ticker2df_test = load_dfs('data/current', np.array(list(ibkr_info.keys())))"
   ]
  },
  {
   "cell_type": "code",
   "execution_count": 21,
   "metadata": {},
   "outputs": [],
   "source": [
    "X_test, y_test_series = all_samples(ticker2df_test, [datetime.today().date()], test_mode=True)"
   ]
  },
  {
   "cell_type": "code",
   "execution_count": 18,
   "metadata": {},
   "outputs": [],
   "source": [
    "import pickle\n",
    "with open('models/lgb_26_09_thr04.pickle', 'rb') as f:\n",
    "    lgb = pickle.load(f)"
   ]
  },
  {
   "cell_type": "code",
   "execution_count": 22,
   "metadata": {},
   "outputs": [
    {
     "data": {
      "text/html": [
       "<div>\n",
       "<style scoped>\n",
       "    .dataframe tbody tr th:only-of-type {\n",
       "        vertical-align: middle;\n",
       "    }\n",
       "\n",
       "    .dataframe tbody tr th {\n",
       "        vertical-align: top;\n",
       "    }\n",
       "\n",
       "    .dataframe thead th {\n",
       "        text-align: right;\n",
       "    }\n",
       "</style>\n",
       "<table border=\"1\" class=\"dataframe\">\n",
       "  <thead>\n",
       "    <tr style=\"text-align: right;\">\n",
       "      <th></th>\n",
       "      <th>0</th>\n",
       "      <th>1</th>\n",
       "      <th>2</th>\n",
       "      <th>3</th>\n",
       "      <th>4</th>\n",
       "      <th>5</th>\n",
       "      <th>6</th>\n",
       "      <th>7</th>\n",
       "      <th>8</th>\n",
       "      <th>9</th>\n",
       "      <th>...</th>\n",
       "      <th>66</th>\n",
       "      <th>67</th>\n",
       "      <th>68</th>\n",
       "      <th>69</th>\n",
       "      <th>70</th>\n",
       "      <th>71</th>\n",
       "      <th>72</th>\n",
       "      <th>73</th>\n",
       "      <th>ticker</th>\n",
       "      <th>corn_date</th>\n",
       "    </tr>\n",
       "  </thead>\n",
       "  <tbody>\n",
       "    <tr>\n",
       "      <th>0</th>\n",
       "      <td>0.021724</td>\n",
       "      <td>0.951977</td>\n",
       "      <td>0.905969</td>\n",
       "      <td>0.953820</td>\n",
       "      <td>0.094031</td>\n",
       "      <td>0.060715</td>\n",
       "      <td>0.011657</td>\n",
       "      <td>0.978789</td>\n",
       "      <td>0.950862</td>\n",
       "      <td>0.975817</td>\n",
       "      <td>...</td>\n",
       "      <td>0.004134</td>\n",
       "      <td>0.008663</td>\n",
       "      <td>0.001327</td>\n",
       "      <td>0.003677</td>\n",
       "      <td>1.016772</td>\n",
       "      <td>1.028416</td>\n",
       "      <td>1.006907</td>\n",
       "      <td>1.015147</td>\n",
       "      <td>GMKN</td>\n",
       "      <td>2019-08-27</td>\n",
       "    </tr>\n",
       "    <tr>\n",
       "      <th>1</th>\n",
       "      <td>0.009623</td>\n",
       "      <td>0.977552</td>\n",
       "      <td>0.950277</td>\n",
       "      <td>0.979064</td>\n",
       "      <td>0.049723</td>\n",
       "      <td>0.012469</td>\n",
       "      <td>0.007271</td>\n",
       "      <td>0.980474</td>\n",
       "      <td>0.969051</td>\n",
       "      <td>0.976672</td>\n",
       "      <td>...</td>\n",
       "      <td>0.003546</td>\n",
       "      <td>0.011759</td>\n",
       "      <td>0.000544</td>\n",
       "      <td>0.002469</td>\n",
       "      <td>1.015058</td>\n",
       "      <td>1.038844</td>\n",
       "      <td>1.002980</td>\n",
       "      <td>1.012141</td>\n",
       "      <td>SNGSP</td>\n",
       "      <td>2019-08-27</td>\n",
       "    </tr>\n",
       "    <tr>\n",
       "      <th>2</th>\n",
       "      <td>0.019066</td>\n",
       "      <td>0.945465</td>\n",
       "      <td>0.921560</td>\n",
       "      <td>0.935583</td>\n",
       "      <td>0.078440</td>\n",
       "      <td>0.058282</td>\n",
       "      <td>0.007268</td>\n",
       "      <td>0.977620</td>\n",
       "      <td>0.945881</td>\n",
       "      <td>0.979842</td>\n",
       "      <td>...</td>\n",
       "      <td>0.004344</td>\n",
       "      <td>0.014806</td>\n",
       "      <td>0.001269</td>\n",
       "      <td>0.003529</td>\n",
       "      <td>1.019089</td>\n",
       "      <td>1.055137</td>\n",
       "      <td>1.006063</td>\n",
       "      <td>1.014154</td>\n",
       "      <td>MVID</td>\n",
       "      <td>2019-08-27</td>\n",
       "    </tr>\n",
       "    <tr>\n",
       "      <th>3</th>\n",
       "      <td>0.013716</td>\n",
       "      <td>0.966187</td>\n",
       "      <td>0.938444</td>\n",
       "      <td>0.963894</td>\n",
       "      <td>0.061556</td>\n",
       "      <td>0.016553</td>\n",
       "      <td>0.009044</td>\n",
       "      <td>0.980603</td>\n",
       "      <td>0.965911</td>\n",
       "      <td>0.978721</td>\n",
       "      <td>...</td>\n",
       "      <td>0.003316</td>\n",
       "      <td>0.006447</td>\n",
       "      <td>0.000846</td>\n",
       "      <td>0.002947</td>\n",
       "      <td>1.014063</td>\n",
       "      <td>1.026113</td>\n",
       "      <td>1.006091</td>\n",
       "      <td>1.013712</td>\n",
       "      <td>MOEX</td>\n",
       "      <td>2019-08-27</td>\n",
       "    </tr>\n",
       "    <tr>\n",
       "      <th>4</th>\n",
       "      <td>0.018336</td>\n",
       "      <td>0.954951</td>\n",
       "      <td>0.930019</td>\n",
       "      <td>0.948900</td>\n",
       "      <td>0.069981</td>\n",
       "      <td>-0.052832</td>\n",
       "      <td>0.005110</td>\n",
       "      <td>0.988406</td>\n",
       "      <td>0.977604</td>\n",
       "      <td>0.988711</td>\n",
       "      <td>...</td>\n",
       "      <td>0.002790</td>\n",
       "      <td>0.005556</td>\n",
       "      <td>0.000863</td>\n",
       "      <td>0.002807</td>\n",
       "      <td>1.011985</td>\n",
       "      <td>1.018735</td>\n",
       "      <td>1.005510</td>\n",
       "      <td>1.012391</td>\n",
       "      <td>HYDR</td>\n",
       "      <td>2019-08-27</td>\n",
       "    </tr>\n",
       "    <tr>\n",
       "      <th>5</th>\n",
       "      <td>0.025615</td>\n",
       "      <td>0.944620</td>\n",
       "      <td>0.895979</td>\n",
       "      <td>0.952506</td>\n",
       "      <td>0.104021</td>\n",
       "      <td>-0.030449</td>\n",
       "      <td>0.003113</td>\n",
       "      <td>0.991780</td>\n",
       "      <td>0.983254</td>\n",
       "      <td>0.992101</td>\n",
       "      <td>...</td>\n",
       "      <td>0.004105</td>\n",
       "      <td>0.010455</td>\n",
       "      <td>0.001438</td>\n",
       "      <td>0.003000</td>\n",
       "      <td>1.018352</td>\n",
       "      <td>1.040062</td>\n",
       "      <td>1.007419</td>\n",
       "      <td>1.016541</td>\n",
       "      <td>TATNP</td>\n",
       "      <td>2019-08-27</td>\n",
       "    </tr>\n",
       "    <tr>\n",
       "      <th>6</th>\n",
       "      <td>0.021078</td>\n",
       "      <td>0.963926</td>\n",
       "      <td>0.926320</td>\n",
       "      <td>0.967297</td>\n",
       "      <td>0.073680</td>\n",
       "      <td>0.040977</td>\n",
       "      <td>0.011926</td>\n",
       "      <td>0.972680</td>\n",
       "      <td>0.954096</td>\n",
       "      <td>0.972299</td>\n",
       "      <td>...</td>\n",
       "      <td>0.003108</td>\n",
       "      <td>0.005075</td>\n",
       "      <td>0.001069</td>\n",
       "      <td>0.002846</td>\n",
       "      <td>1.013583</td>\n",
       "      <td>1.026771</td>\n",
       "      <td>1.004651</td>\n",
       "      <td>1.012097</td>\n",
       "      <td>PHOR</td>\n",
       "      <td>2019-08-27</td>\n",
       "    </tr>\n",
       "    <tr>\n",
       "      <th>7</th>\n",
       "      <td>0.014569</td>\n",
       "      <td>0.961384</td>\n",
       "      <td>0.930334</td>\n",
       "      <td>0.961222</td>\n",
       "      <td>0.069666</td>\n",
       "      <td>-0.021789</td>\n",
       "      <td>0.004639</td>\n",
       "      <td>0.987924</td>\n",
       "      <td>0.969250</td>\n",
       "      <td>0.988239</td>\n",
       "      <td>...</td>\n",
       "      <td>0.003939</td>\n",
       "      <td>0.007019</td>\n",
       "      <td>0.001062</td>\n",
       "      <td>0.003742</td>\n",
       "      <td>1.017470</td>\n",
       "      <td>1.026671</td>\n",
       "      <td>1.005981</td>\n",
       "      <td>1.018019</td>\n",
       "      <td>GAZP</td>\n",
       "      <td>2019-08-27</td>\n",
       "    </tr>\n",
       "    <tr>\n",
       "      <th>8</th>\n",
       "      <td>0.005999</td>\n",
       "      <td>0.989870</td>\n",
       "      <td>0.973829</td>\n",
       "      <td>0.992499</td>\n",
       "      <td>0.026171</td>\n",
       "      <td>-0.023004</td>\n",
       "      <td>0.004201</td>\n",
       "      <td>0.988362</td>\n",
       "      <td>0.982344</td>\n",
       "      <td>0.987052</td>\n",
       "      <td>...</td>\n",
       "      <td>0.000869</td>\n",
       "      <td>0.002763</td>\n",
       "      <td>0.000299</td>\n",
       "      <td>0.000740</td>\n",
       "      <td>1.003756</td>\n",
       "      <td>1.014999</td>\n",
       "      <td>1.001347</td>\n",
       "      <td>1.002852</td>\n",
       "      <td>CBOM</td>\n",
       "      <td>2019-08-27</td>\n",
       "    </tr>\n",
       "    <tr>\n",
       "      <th>9</th>\n",
       "      <td>0.041999</td>\n",
       "      <td>0.930183</td>\n",
       "      <td>0.855177</td>\n",
       "      <td>0.940681</td>\n",
       "      <td>0.144823</td>\n",
       "      <td>0.143420</td>\n",
       "      <td>0.009210</td>\n",
       "      <td>0.973429</td>\n",
       "      <td>0.950568</td>\n",
       "      <td>0.970875</td>\n",
       "      <td>...</td>\n",
       "      <td>0.004529</td>\n",
       "      <td>0.013348</td>\n",
       "      <td>0.001063</td>\n",
       "      <td>0.003705</td>\n",
       "      <td>1.018374</td>\n",
       "      <td>1.045130</td>\n",
       "      <td>1.006192</td>\n",
       "      <td>1.016175</td>\n",
       "      <td>PLZL</td>\n",
       "      <td>2019-08-27</td>\n",
       "    </tr>\n",
       "    <tr>\n",
       "      <th>10</th>\n",
       "      <td>0.026184</td>\n",
       "      <td>0.948102</td>\n",
       "      <td>0.908696</td>\n",
       "      <td>0.939219</td>\n",
       "      <td>0.091304</td>\n",
       "      <td>-0.064860</td>\n",
       "      <td>0.007310</td>\n",
       "      <td>0.987490</td>\n",
       "      <td>0.973143</td>\n",
       "      <td>0.986851</td>\n",
       "      <td>...</td>\n",
       "      <td>0.003444</td>\n",
       "      <td>0.006624</td>\n",
       "      <td>0.001753</td>\n",
       "      <td>0.003034</td>\n",
       "      <td>1.014092</td>\n",
       "      <td>1.025744</td>\n",
       "      <td>1.007989</td>\n",
       "      <td>1.012962</td>\n",
       "      <td>NLMK</td>\n",
       "      <td>2019-08-27</td>\n",
       "    </tr>\n",
       "    <tr>\n",
       "      <th>11</th>\n",
       "      <td>0.018562</td>\n",
       "      <td>0.965584</td>\n",
       "      <td>0.913833</td>\n",
       "      <td>0.968310</td>\n",
       "      <td>0.086167</td>\n",
       "      <td>0.014955</td>\n",
       "      <td>0.007523</td>\n",
       "      <td>0.980237</td>\n",
       "      <td>0.967713</td>\n",
       "      <td>0.977220</td>\n",
       "      <td>...</td>\n",
       "      <td>0.004045</td>\n",
       "      <td>0.009992</td>\n",
       "      <td>0.000831</td>\n",
       "      <td>0.003750</td>\n",
       "      <td>1.017889</td>\n",
       "      <td>1.039353</td>\n",
       "      <td>1.005435</td>\n",
       "      <td>1.015916</td>\n",
       "      <td>AFLT</td>\n",
       "      <td>2019-08-27</td>\n",
       "    </tr>\n",
       "    <tr>\n",
       "      <th>12</th>\n",
       "      <td>0.029944</td>\n",
       "      <td>0.945505</td>\n",
       "      <td>0.895745</td>\n",
       "      <td>0.940812</td>\n",
       "      <td>0.104255</td>\n",
       "      <td>-0.079884</td>\n",
       "      <td>0.006175</td>\n",
       "      <td>0.987076</td>\n",
       "      <td>0.977164</td>\n",
       "      <td>0.985468</td>\n",
       "      <td>...</td>\n",
       "      <td>0.003431</td>\n",
       "      <td>0.007020</td>\n",
       "      <td>0.001165</td>\n",
       "      <td>0.002566</td>\n",
       "      <td>1.014550</td>\n",
       "      <td>1.027208</td>\n",
       "      <td>1.005661</td>\n",
       "      <td>1.013328</td>\n",
       "      <td>CHMF</td>\n",
       "      <td>2019-08-27</td>\n",
       "    </tr>\n",
       "    <tr>\n",
       "      <th>13</th>\n",
       "      <td>0.015577</td>\n",
       "      <td>0.961070</td>\n",
       "      <td>0.927148</td>\n",
       "      <td>0.962650</td>\n",
       "      <td>0.072852</td>\n",
       "      <td>-0.024548</td>\n",
       "      <td>0.002599</td>\n",
       "      <td>0.991940</td>\n",
       "      <td>0.985521</td>\n",
       "      <td>0.991589</td>\n",
       "      <td>...</td>\n",
       "      <td>0.003625</td>\n",
       "      <td>0.008116</td>\n",
       "      <td>0.001064</td>\n",
       "      <td>0.003196</td>\n",
       "      <td>1.016135</td>\n",
       "      <td>1.034683</td>\n",
       "      <td>1.005296</td>\n",
       "      <td>1.015287</td>\n",
       "      <td>TATN</td>\n",
       "      <td>2019-08-27</td>\n",
       "    </tr>\n",
       "    <tr>\n",
       "      <th>14</th>\n",
       "      <td>0.016578</td>\n",
       "      <td>0.971765</td>\n",
       "      <td>0.933801</td>\n",
       "      <td>0.975281</td>\n",
       "      <td>0.066199</td>\n",
       "      <td>0.006554</td>\n",
       "      <td>0.009284</td>\n",
       "      <td>0.983106</td>\n",
       "      <td>0.957950</td>\n",
       "      <td>0.985451</td>\n",
       "      <td>...</td>\n",
       "      <td>0.004595</td>\n",
       "      <td>0.017513</td>\n",
       "      <td>0.001443</td>\n",
       "      <td>0.003438</td>\n",
       "      <td>1.018862</td>\n",
       "      <td>1.056400</td>\n",
       "      <td>1.007089</td>\n",
       "      <td>1.016224</td>\n",
       "      <td>LKOH</td>\n",
       "      <td>2019-08-27</td>\n",
       "    </tr>\n",
       "    <tr>\n",
       "      <th>15</th>\n",
       "      <td>0.019205</td>\n",
       "      <td>0.943520</td>\n",
       "      <td>0.915977</td>\n",
       "      <td>0.935582</td>\n",
       "      <td>0.084023</td>\n",
       "      <td>-0.018509</td>\n",
       "      <td>0.002337</td>\n",
       "      <td>0.989839</td>\n",
       "      <td>0.985530</td>\n",
       "      <td>0.989664</td>\n",
       "      <td>...</td>\n",
       "      <td>0.003984</td>\n",
       "      <td>0.014720</td>\n",
       "      <td>0.001418</td>\n",
       "      <td>0.002344</td>\n",
       "      <td>1.015638</td>\n",
       "      <td>1.048519</td>\n",
       "      <td>1.005364</td>\n",
       "      <td>1.012585</td>\n",
       "      <td>PIKK</td>\n",
       "      <td>2019-08-27</td>\n",
       "    </tr>\n",
       "    <tr>\n",
       "      <th>16</th>\n",
       "      <td>0.027947</td>\n",
       "      <td>0.944632</td>\n",
       "      <td>0.892436</td>\n",
       "      <td>0.951361</td>\n",
       "      <td>0.107564</td>\n",
       "      <td>-0.070602</td>\n",
       "      <td>0.005609</td>\n",
       "      <td>0.984281</td>\n",
       "      <td>0.966947</td>\n",
       "      <td>0.983646</td>\n",
       "      <td>...</td>\n",
       "      <td>0.004345</td>\n",
       "      <td>0.008313</td>\n",
       "      <td>0.001616</td>\n",
       "      <td>0.004122</td>\n",
       "      <td>1.018098</td>\n",
       "      <td>1.034238</td>\n",
       "      <td>1.008119</td>\n",
       "      <td>1.018341</td>\n",
       "      <td>FEES</td>\n",
       "      <td>2019-08-27</td>\n",
       "    </tr>\n",
       "    <tr>\n",
       "      <th>17</th>\n",
       "      <td>0.034310</td>\n",
       "      <td>0.932700</td>\n",
       "      <td>0.883833</td>\n",
       "      <td>0.924497</td>\n",
       "      <td>0.116167</td>\n",
       "      <td>-0.106715</td>\n",
       "      <td>0.006149</td>\n",
       "      <td>0.984417</td>\n",
       "      <td>0.969734</td>\n",
       "      <td>0.983601</td>\n",
       "      <td>...</td>\n",
       "      <td>0.004440</td>\n",
       "      <td>0.012573</td>\n",
       "      <td>0.001811</td>\n",
       "      <td>0.003397</td>\n",
       "      <td>1.018703</td>\n",
       "      <td>1.043827</td>\n",
       "      <td>1.007987</td>\n",
       "      <td>1.015119</td>\n",
       "      <td>IRAO</td>\n",
       "      <td>2019-08-27</td>\n",
       "    </tr>\n",
       "    <tr>\n",
       "      <th>18</th>\n",
       "      <td>0.025130</td>\n",
       "      <td>0.954591</td>\n",
       "      <td>0.903171</td>\n",
       "      <td>0.954654</td>\n",
       "      <td>0.096829</td>\n",
       "      <td>-0.057961</td>\n",
       "      <td>0.018858</td>\n",
       "      <td>0.969385</td>\n",
       "      <td>0.936042</td>\n",
       "      <td>0.970318</td>\n",
       "      <td>...</td>\n",
       "      <td>0.004107</td>\n",
       "      <td>0.012824</td>\n",
       "      <td>0.001295</td>\n",
       "      <td>0.003240</td>\n",
       "      <td>1.019820</td>\n",
       "      <td>1.048551</td>\n",
       "      <td>1.007928</td>\n",
       "      <td>1.016416</td>\n",
       "      <td>TRMK</td>\n",
       "      <td>2019-08-27</td>\n",
       "    </tr>\n",
       "    <tr>\n",
       "      <th>19</th>\n",
       "      <td>0.038018</td>\n",
       "      <td>0.917037</td>\n",
       "      <td>0.862112</td>\n",
       "      <td>0.913949</td>\n",
       "      <td>0.137888</td>\n",
       "      <td>-0.108594</td>\n",
       "      <td>0.009882</td>\n",
       "      <td>0.984319</td>\n",
       "      <td>0.959990</td>\n",
       "      <td>0.986493</td>\n",
       "      <td>...</td>\n",
       "      <td>0.004498</td>\n",
       "      <td>0.008868</td>\n",
       "      <td>0.001278</td>\n",
       "      <td>0.003811</td>\n",
       "      <td>1.020583</td>\n",
       "      <td>1.049826</td>\n",
       "      <td>1.007433</td>\n",
       "      <td>1.017262</td>\n",
       "      <td>MAGN</td>\n",
       "      <td>2019-08-27</td>\n",
       "    </tr>\n",
       "    <tr>\n",
       "      <th>20</th>\n",
       "      <td>0.037110</td>\n",
       "      <td>0.933803</td>\n",
       "      <td>0.845376</td>\n",
       "      <td>0.951857</td>\n",
       "      <td>0.154624</td>\n",
       "      <td>-0.037139</td>\n",
       "      <td>0.017146</td>\n",
       "      <td>0.968567</td>\n",
       "      <td>0.931368</td>\n",
       "      <td>0.972599</td>\n",
       "      <td>...</td>\n",
       "      <td>0.005713</td>\n",
       "      <td>0.020482</td>\n",
       "      <td>0.001582</td>\n",
       "      <td>0.005095</td>\n",
       "      <td>1.025314</td>\n",
       "      <td>1.063531</td>\n",
       "      <td>1.007990</td>\n",
       "      <td>1.023045</td>\n",
       "      <td>AFKS</td>\n",
       "      <td>2019-08-27</td>\n",
       "    </tr>\n",
       "    <tr>\n",
       "      <th>21</th>\n",
       "      <td>0.015210</td>\n",
       "      <td>0.947767</td>\n",
       "      <td>0.918775</td>\n",
       "      <td>0.944236</td>\n",
       "      <td>0.081225</td>\n",
       "      <td>-0.017260</td>\n",
       "      <td>0.006976</td>\n",
       "      <td>0.986142</td>\n",
       "      <td>0.969125</td>\n",
       "      <td>0.984644</td>\n",
       "      <td>...</td>\n",
       "      <td>0.004655</td>\n",
       "      <td>0.011486</td>\n",
       "      <td>0.001286</td>\n",
       "      <td>0.003294</td>\n",
       "      <td>1.018908</td>\n",
       "      <td>1.036641</td>\n",
       "      <td>1.006974</td>\n",
       "      <td>1.017072</td>\n",
       "      <td>YNDX</td>\n",
       "      <td>2019-08-27</td>\n",
       "    </tr>\n",
       "    <tr>\n",
       "      <th>22</th>\n",
       "      <td>0.048252</td>\n",
       "      <td>0.916267</td>\n",
       "      <td>0.842899</td>\n",
       "      <td>0.911722</td>\n",
       "      <td>0.157101</td>\n",
       "      <td>-0.131809</td>\n",
       "      <td>0.004247</td>\n",
       "      <td>0.988589</td>\n",
       "      <td>0.976932</td>\n",
       "      <td>0.988883</td>\n",
       "      <td>...</td>\n",
       "      <td>0.004072</td>\n",
       "      <td>0.010462</td>\n",
       "      <td>0.000616</td>\n",
       "      <td>0.003444</td>\n",
       "      <td>1.017977</td>\n",
       "      <td>1.050779</td>\n",
       "      <td>1.003690</td>\n",
       "      <td>1.016941</td>\n",
       "      <td>ALRS</td>\n",
       "      <td>2019-08-27</td>\n",
       "    </tr>\n",
       "    <tr>\n",
       "      <th>23</th>\n",
       "      <td>0.048740</td>\n",
       "      <td>0.910468</td>\n",
       "      <td>0.813336</td>\n",
       "      <td>0.917872</td>\n",
       "      <td>0.186664</td>\n",
       "      <td>0.145219</td>\n",
       "      <td>0.011573</td>\n",
       "      <td>0.968307</td>\n",
       "      <td>0.948657</td>\n",
       "      <td>0.963777</td>\n",
       "      <td>...</td>\n",
       "      <td>0.005411</td>\n",
       "      <td>0.013557</td>\n",
       "      <td>0.001388</td>\n",
       "      <td>0.004567</td>\n",
       "      <td>1.021683</td>\n",
       "      <td>1.043836</td>\n",
       "      <td>1.008658</td>\n",
       "      <td>1.019745</td>\n",
       "      <td>POLY</td>\n",
       "      <td>2019-08-27</td>\n",
       "    </tr>\n",
       "    <tr>\n",
       "      <th>24</th>\n",
       "      <td>0.015407</td>\n",
       "      <td>0.968032</td>\n",
       "      <td>0.941285</td>\n",
       "      <td>0.966396</td>\n",
       "      <td>0.058715</td>\n",
       "      <td>-0.026773</td>\n",
       "      <td>0.005678</td>\n",
       "      <td>0.986276</td>\n",
       "      <td>0.975890</td>\n",
       "      <td>0.986988</td>\n",
       "      <td>...</td>\n",
       "      <td>0.003502</td>\n",
       "      <td>0.007249</td>\n",
       "      <td>0.001549</td>\n",
       "      <td>0.003162</td>\n",
       "      <td>1.014830</td>\n",
       "      <td>1.021483</td>\n",
       "      <td>1.006513</td>\n",
       "      <td>1.013852</td>\n",
       "      <td>SNGS</td>\n",
       "      <td>2019-08-27</td>\n",
       "    </tr>\n",
       "    <tr>\n",
       "      <th>25</th>\n",
       "      <td>0.051610</td>\n",
       "      <td>0.911074</td>\n",
       "      <td>0.812215</td>\n",
       "      <td>0.918175</td>\n",
       "      <td>0.187785</td>\n",
       "      <td>0.011773</td>\n",
       "      <td>0.047884</td>\n",
       "      <td>0.892954</td>\n",
       "      <td>0.846517</td>\n",
       "      <td>0.865835</td>\n",
       "      <td>...</td>\n",
       "      <td>0.007498</td>\n",
       "      <td>0.029526</td>\n",
       "      <td>0.001818</td>\n",
       "      <td>0.005536</td>\n",
       "      <td>1.032408</td>\n",
       "      <td>1.088184</td>\n",
       "      <td>1.010427</td>\n",
       "      <td>1.028445</td>\n",
       "      <td>MTLR</td>\n",
       "      <td>2019-08-27</td>\n",
       "    </tr>\n",
       "    <tr>\n",
       "      <th>26</th>\n",
       "      <td>0.014736</td>\n",
       "      <td>0.964461</td>\n",
       "      <td>0.936305</td>\n",
       "      <td>0.962488</td>\n",
       "      <td>0.063695</td>\n",
       "      <td>-0.013370</td>\n",
       "      <td>0.006776</td>\n",
       "      <td>0.977830</td>\n",
       "      <td>0.961128</td>\n",
       "      <td>0.976181</td>\n",
       "      <td>...</td>\n",
       "      <td>0.003098</td>\n",
       "      <td>0.007681</td>\n",
       "      <td>0.001174</td>\n",
       "      <td>0.002490</td>\n",
       "      <td>1.012389</td>\n",
       "      <td>1.026403</td>\n",
       "      <td>1.005218</td>\n",
       "      <td>1.010230</td>\n",
       "      <td>MTSS</td>\n",
       "      <td>2019-08-27</td>\n",
       "    </tr>\n",
       "    <tr>\n",
       "      <th>27</th>\n",
       "      <td>0.046099</td>\n",
       "      <td>0.921625</td>\n",
       "      <td>0.851858</td>\n",
       "      <td>0.904826</td>\n",
       "      <td>0.148142</td>\n",
       "      <td>-0.105263</td>\n",
       "      <td>0.006959</td>\n",
       "      <td>0.987782</td>\n",
       "      <td>0.971278</td>\n",
       "      <td>0.990802</td>\n",
       "      <td>...</td>\n",
       "      <td>0.004811</td>\n",
       "      <td>0.008846</td>\n",
       "      <td>0.001615</td>\n",
       "      <td>0.004075</td>\n",
       "      <td>1.020762</td>\n",
       "      <td>1.032056</td>\n",
       "      <td>1.007613</td>\n",
       "      <td>1.020544</td>\n",
       "      <td>RUAL</td>\n",
       "      <td>2019-08-27</td>\n",
       "    </tr>\n",
       "    <tr>\n",
       "      <th>28</th>\n",
       "      <td>0.022510</td>\n",
       "      <td>0.950561</td>\n",
       "      <td>0.921563</td>\n",
       "      <td>0.941763</td>\n",
       "      <td>0.078437</td>\n",
       "      <td>-0.063353</td>\n",
       "      <td>0.008020</td>\n",
       "      <td>0.978351</td>\n",
       "      <td>0.966836</td>\n",
       "      <td>0.974542</td>\n",
       "      <td>...</td>\n",
       "      <td>0.003288</td>\n",
       "      <td>0.009758</td>\n",
       "      <td>0.001047</td>\n",
       "      <td>0.002630</td>\n",
       "      <td>1.013985</td>\n",
       "      <td>1.040421</td>\n",
       "      <td>1.006001</td>\n",
       "      <td>1.012014</td>\n",
       "      <td>MGNT</td>\n",
       "      <td>2019-08-27</td>\n",
       "    </tr>\n",
       "    <tr>\n",
       "      <th>29</th>\n",
       "      <td>0.007465</td>\n",
       "      <td>0.976455</td>\n",
       "      <td>0.962016</td>\n",
       "      <td>0.975514</td>\n",
       "      <td>0.037984</td>\n",
       "      <td>-0.015886</td>\n",
       "      <td>0.003134</td>\n",
       "      <td>0.990058</td>\n",
       "      <td>0.983537</td>\n",
       "      <td>0.988659</td>\n",
       "      <td>...</td>\n",
       "      <td>0.002527</td>\n",
       "      <td>0.006277</td>\n",
       "      <td>0.000899</td>\n",
       "      <td>0.002430</td>\n",
       "      <td>1.011492</td>\n",
       "      <td>1.020433</td>\n",
       "      <td>1.004574</td>\n",
       "      <td>1.010364</td>\n",
       "      <td>RTKM</td>\n",
       "      <td>2019-08-27</td>\n",
       "    </tr>\n",
       "  </tbody>\n",
       "</table>\n",
       "<p>30 rows × 76 columns</p>\n",
       "</div>"
      ],
      "text/plain": [
       "           0         1         2         3         4         5         6  \\\n",
       "0   0.021724  0.951977  0.905969  0.953820  0.094031  0.060715  0.011657   \n",
       "1   0.009623  0.977552  0.950277  0.979064  0.049723  0.012469  0.007271   \n",
       "2   0.019066  0.945465  0.921560  0.935583  0.078440  0.058282  0.007268   \n",
       "3   0.013716  0.966187  0.938444  0.963894  0.061556  0.016553  0.009044   \n",
       "4   0.018336  0.954951  0.930019  0.948900  0.069981 -0.052832  0.005110   \n",
       "5   0.025615  0.944620  0.895979  0.952506  0.104021 -0.030449  0.003113   \n",
       "6   0.021078  0.963926  0.926320  0.967297  0.073680  0.040977  0.011926   \n",
       "7   0.014569  0.961384  0.930334  0.961222  0.069666 -0.021789  0.004639   \n",
       "8   0.005999  0.989870  0.973829  0.992499  0.026171 -0.023004  0.004201   \n",
       "9   0.041999  0.930183  0.855177  0.940681  0.144823  0.143420  0.009210   \n",
       "10  0.026184  0.948102  0.908696  0.939219  0.091304 -0.064860  0.007310   \n",
       "11  0.018562  0.965584  0.913833  0.968310  0.086167  0.014955  0.007523   \n",
       "12  0.029944  0.945505  0.895745  0.940812  0.104255 -0.079884  0.006175   \n",
       "13  0.015577  0.961070  0.927148  0.962650  0.072852 -0.024548  0.002599   \n",
       "14  0.016578  0.971765  0.933801  0.975281  0.066199  0.006554  0.009284   \n",
       "15  0.019205  0.943520  0.915977  0.935582  0.084023 -0.018509  0.002337   \n",
       "16  0.027947  0.944632  0.892436  0.951361  0.107564 -0.070602  0.005609   \n",
       "17  0.034310  0.932700  0.883833  0.924497  0.116167 -0.106715  0.006149   \n",
       "18  0.025130  0.954591  0.903171  0.954654  0.096829 -0.057961  0.018858   \n",
       "19  0.038018  0.917037  0.862112  0.913949  0.137888 -0.108594  0.009882   \n",
       "20  0.037110  0.933803  0.845376  0.951857  0.154624 -0.037139  0.017146   \n",
       "21  0.015210  0.947767  0.918775  0.944236  0.081225 -0.017260  0.006976   \n",
       "22  0.048252  0.916267  0.842899  0.911722  0.157101 -0.131809  0.004247   \n",
       "23  0.048740  0.910468  0.813336  0.917872  0.186664  0.145219  0.011573   \n",
       "24  0.015407  0.968032  0.941285  0.966396  0.058715 -0.026773  0.005678   \n",
       "25  0.051610  0.911074  0.812215  0.918175  0.187785  0.011773  0.047884   \n",
       "26  0.014736  0.964461  0.936305  0.962488  0.063695 -0.013370  0.006776   \n",
       "27  0.046099  0.921625  0.851858  0.904826  0.148142 -0.105263  0.006959   \n",
       "28  0.022510  0.950561  0.921563  0.941763  0.078437 -0.063353  0.008020   \n",
       "29  0.007465  0.976455  0.962016  0.975514  0.037984 -0.015886  0.003134   \n",
       "\n",
       "           7         8         9     ...            66        67        68  \\\n",
       "0   0.978789  0.950862  0.975817     ...      0.004134  0.008663  0.001327   \n",
       "1   0.980474  0.969051  0.976672     ...      0.003546  0.011759  0.000544   \n",
       "2   0.977620  0.945881  0.979842     ...      0.004344  0.014806  0.001269   \n",
       "3   0.980603  0.965911  0.978721     ...      0.003316  0.006447  0.000846   \n",
       "4   0.988406  0.977604  0.988711     ...      0.002790  0.005556  0.000863   \n",
       "5   0.991780  0.983254  0.992101     ...      0.004105  0.010455  0.001438   \n",
       "6   0.972680  0.954096  0.972299     ...      0.003108  0.005075  0.001069   \n",
       "7   0.987924  0.969250  0.988239     ...      0.003939  0.007019  0.001062   \n",
       "8   0.988362  0.982344  0.987052     ...      0.000869  0.002763  0.000299   \n",
       "9   0.973429  0.950568  0.970875     ...      0.004529  0.013348  0.001063   \n",
       "10  0.987490  0.973143  0.986851     ...      0.003444  0.006624  0.001753   \n",
       "11  0.980237  0.967713  0.977220     ...      0.004045  0.009992  0.000831   \n",
       "12  0.987076  0.977164  0.985468     ...      0.003431  0.007020  0.001165   \n",
       "13  0.991940  0.985521  0.991589     ...      0.003625  0.008116  0.001064   \n",
       "14  0.983106  0.957950  0.985451     ...      0.004595  0.017513  0.001443   \n",
       "15  0.989839  0.985530  0.989664     ...      0.003984  0.014720  0.001418   \n",
       "16  0.984281  0.966947  0.983646     ...      0.004345  0.008313  0.001616   \n",
       "17  0.984417  0.969734  0.983601     ...      0.004440  0.012573  0.001811   \n",
       "18  0.969385  0.936042  0.970318     ...      0.004107  0.012824  0.001295   \n",
       "19  0.984319  0.959990  0.986493     ...      0.004498  0.008868  0.001278   \n",
       "20  0.968567  0.931368  0.972599     ...      0.005713  0.020482  0.001582   \n",
       "21  0.986142  0.969125  0.984644     ...      0.004655  0.011486  0.001286   \n",
       "22  0.988589  0.976932  0.988883     ...      0.004072  0.010462  0.000616   \n",
       "23  0.968307  0.948657  0.963777     ...      0.005411  0.013557  0.001388   \n",
       "24  0.986276  0.975890  0.986988     ...      0.003502  0.007249  0.001549   \n",
       "25  0.892954  0.846517  0.865835     ...      0.007498  0.029526  0.001818   \n",
       "26  0.977830  0.961128  0.976181     ...      0.003098  0.007681  0.001174   \n",
       "27  0.987782  0.971278  0.990802     ...      0.004811  0.008846  0.001615   \n",
       "28  0.978351  0.966836  0.974542     ...      0.003288  0.009758  0.001047   \n",
       "29  0.990058  0.983537  0.988659     ...      0.002527  0.006277  0.000899   \n",
       "\n",
       "          69        70        71        72        73  ticker   corn_date  \n",
       "0   0.003677  1.016772  1.028416  1.006907  1.015147    GMKN  2019-08-27  \n",
       "1   0.002469  1.015058  1.038844  1.002980  1.012141   SNGSP  2019-08-27  \n",
       "2   0.003529  1.019089  1.055137  1.006063  1.014154    MVID  2019-08-27  \n",
       "3   0.002947  1.014063  1.026113  1.006091  1.013712    MOEX  2019-08-27  \n",
       "4   0.002807  1.011985  1.018735  1.005510  1.012391    HYDR  2019-08-27  \n",
       "5   0.003000  1.018352  1.040062  1.007419  1.016541   TATNP  2019-08-27  \n",
       "6   0.002846  1.013583  1.026771  1.004651  1.012097    PHOR  2019-08-27  \n",
       "7   0.003742  1.017470  1.026671  1.005981  1.018019    GAZP  2019-08-27  \n",
       "8   0.000740  1.003756  1.014999  1.001347  1.002852    CBOM  2019-08-27  \n",
       "9   0.003705  1.018374  1.045130  1.006192  1.016175    PLZL  2019-08-27  \n",
       "10  0.003034  1.014092  1.025744  1.007989  1.012962    NLMK  2019-08-27  \n",
       "11  0.003750  1.017889  1.039353  1.005435  1.015916    AFLT  2019-08-27  \n",
       "12  0.002566  1.014550  1.027208  1.005661  1.013328    CHMF  2019-08-27  \n",
       "13  0.003196  1.016135  1.034683  1.005296  1.015287    TATN  2019-08-27  \n",
       "14  0.003438  1.018862  1.056400  1.007089  1.016224    LKOH  2019-08-27  \n",
       "15  0.002344  1.015638  1.048519  1.005364  1.012585    PIKK  2019-08-27  \n",
       "16  0.004122  1.018098  1.034238  1.008119  1.018341    FEES  2019-08-27  \n",
       "17  0.003397  1.018703  1.043827  1.007987  1.015119    IRAO  2019-08-27  \n",
       "18  0.003240  1.019820  1.048551  1.007928  1.016416    TRMK  2019-08-27  \n",
       "19  0.003811  1.020583  1.049826  1.007433  1.017262    MAGN  2019-08-27  \n",
       "20  0.005095  1.025314  1.063531  1.007990  1.023045    AFKS  2019-08-27  \n",
       "21  0.003294  1.018908  1.036641  1.006974  1.017072    YNDX  2019-08-27  \n",
       "22  0.003444  1.017977  1.050779  1.003690  1.016941    ALRS  2019-08-27  \n",
       "23  0.004567  1.021683  1.043836  1.008658  1.019745    POLY  2019-08-27  \n",
       "24  0.003162  1.014830  1.021483  1.006513  1.013852    SNGS  2019-08-27  \n",
       "25  0.005536  1.032408  1.088184  1.010427  1.028445    MTLR  2019-08-27  \n",
       "26  0.002490  1.012389  1.026403  1.005218  1.010230    MTSS  2019-08-27  \n",
       "27  0.004075  1.020762  1.032056  1.007613  1.020544    RUAL  2019-08-27  \n",
       "28  0.002630  1.013985  1.040421  1.006001  1.012014    MGNT  2019-08-27  \n",
       "29  0.002430  1.011492  1.020433  1.004574  1.010364    RTKM  2019-08-27  \n",
       "\n",
       "[30 rows x 76 columns]"
      ]
     },
     "execution_count": 22,
     "metadata": {},
     "output_type": "execute_result"
    }
   ],
   "source": [
    "X_test"
   ]
  },
  {
   "cell_type": "code",
   "execution_count": 745,
   "metadata": {},
   "outputs": [],
   "source": [
    "# del X_test['profit']\n",
    "# del X_test['profit_abs']"
   ]
  },
  {
   "cell_type": "code",
   "execution_count": 23,
   "metadata": {},
   "outputs": [
    {
     "data": {
      "image/png": "[encoded data removed]",
      "text/plain": [
       "<Figure size 432x288 with 1 Axes>"
      ]
     },
     "metadata": {},
     "output_type": "display_data"
    }
   ],
   "source": [
    "pred_proba = lgb.predict_proba(X_test.drop(['corn_date', 'ticker'], axis=1))[:, 1]\n",
    "plt.plot(pred_proba)\n",
    "plt.show()\n"
   ]
  },
  {
   "cell_type": "code",
   "execution_count": 821,
   "metadata": {},
   "outputs": [
    {
     "data": {
      "text/plain": [
       "666602.65"
      ]
     },
     "execution_count": 821,
     "metadata": {},
     "output_type": "execute_result"
    }
   ],
   "source": [
    "16990000 * 0.039235"
   ]
  },
  {
   "cell_type": "code",
   "execution_count": 24,
   "metadata": {},
   "outputs": [
    {
     "data": {
      "text/plain": [
       "array([20, 27])"
      ]
     },
     "execution_count": 24,
     "metadata": {},
     "output_type": "execute_result"
    }
   ],
   "source": [
    "top_idxs = np.where(pred_proba > 0.25)[0]\n",
    "top_idxs"
   ]
  },
  {
   "cell_type": "code",
   "execution_count": 25,
   "metadata": {},
   "outputs": [
    {
     "data": {
      "text/plain": [
       "{'AFKS': 11.338, 'RUAL': 25.99}"
      ]
     },
     "execution_count": 25,
     "metadata": {},
     "output_type": "execute_result"
    }
   ],
   "source": [
    "ticker2price = {}\n",
    "\n",
    "for ticker in list(X_test.loc[top_idxs, ['ticker', 'corn_date']]['ticker'].values):\n",
    "    \n",
    "    df = ticker2df_test[ticker]\n",
    "    price = df[df['date']==datetime.today().date()]['<OPEN>'].values[0]\n",
    "    \n",
    "    ticker2price[ticker] = price\n",
    "\n",
    "\n",
    "ticker2price"
   ]
  },
  {
   "cell_type": "code",
   "execution_count": 26,
   "metadata": {},
   "outputs": [],
   "source": [
    "y_test_profit = calc_target(y_test_series, single_profit_2)"
   ]
  },
  {
   "cell_type": "code",
   "execution_count": 27,
   "metadata": {},
   "outputs": [],
   "source": [
    "X_test['profit'] = y_test_profit\n",
    "day_cnt_df = X_test.loc[top_idxs].groupby('corn_date').size().reset_index().rename({0:'cnt_per_day'}, axis=1)\n",
    "X_test = pd.merge(X_test, day_cnt_df, on='corn_date', how='left')\n",
    "X_test['volume'] = 2000000 / X_test['cnt_per_day']\n",
    "X_test['profit_abs'] = X_test['volume'] * X_test['profit']\n",
    "del X_test['cnt_per_day']\n",
    "del X_test['volume']"
   ]
  },
  {
   "cell_type": "code",
   "execution_count": 28,
   "metadata": {},
   "outputs": [
    {
     "data": {
      "text/plain": [
       "array([20, 27])"
      ]
     },
     "execution_count": 28,
     "metadata": {},
     "output_type": "execute_result"
    }
   ],
   "source": [
    "top_idxs"
   ]
  },
  {
   "cell_type": "code",
   "execution_count": 29,
   "metadata": {},
   "outputs": [
    {
     "data": {
      "text/html": [
       "<div>\n",
       "<style scoped>\n",
       "    .dataframe tbody tr th:only-of-type {\n",
       "        vertical-align: middle;\n",
       "    }\n",
       "\n",
       "    .dataframe tbody tr th {\n",
       "        vertical-align: top;\n",
       "    }\n",
       "\n",
       "    .dataframe thead th {\n",
       "        text-align: right;\n",
       "    }\n",
       "</style>\n",
       "<table border=\"1\" class=\"dataframe\">\n",
       "  <thead>\n",
       "    <tr style=\"text-align: right;\">\n",
       "      <th></th>\n",
       "      <th>ticker</th>\n",
       "      <th>corn_date</th>\n",
       "    </tr>\n",
       "  </thead>\n",
       "  <tbody>\n",
       "    <tr>\n",
       "      <th>20</th>\n",
       "      <td>AFKS</td>\n",
       "      <td>2019-08-27</td>\n",
       "    </tr>\n",
       "    <tr>\n",
       "      <th>27</th>\n",
       "      <td>RUAL</td>\n",
       "      <td>2019-08-27</td>\n",
       "    </tr>\n",
       "  </tbody>\n",
       "</table>\n",
       "</div>"
      ],
      "text/plain": [
       "   ticker   corn_date\n",
       "20   AFKS  2019-08-27\n",
       "27   RUAL  2019-08-27"
      ]
     },
     "execution_count": 29,
     "metadata": {},
     "output_type": "execute_result"
    }
   ],
   "source": [
    "X_test.loc[top_idxs, ['ticker', 'corn_date']]"
   ]
  },
  {
   "cell_type": "code",
   "execution_count": 30,
   "metadata": {
    "scrolled": true
   },
   "outputs": [
    {
     "data": {
      "text/html": [
       "<div>\n",
       "<style scoped>\n",
       "    .dataframe tbody tr th:only-of-type {\n",
       "        vertical-align: middle;\n",
       "    }\n",
       "\n",
       "    .dataframe tbody tr th {\n",
       "        vertical-align: top;\n",
       "    }\n",
       "\n",
       "    .dataframe thead th {\n",
       "        text-align: right;\n",
       "    }\n",
       "</style>\n",
       "<table border=\"1\" class=\"dataframe\">\n",
       "  <thead>\n",
       "    <tr style=\"text-align: right;\">\n",
       "      <th></th>\n",
       "      <th>ticker</th>\n",
       "      <th>corn_date</th>\n",
       "      <th>profit</th>\n",
       "      <th>profit_abs</th>\n",
       "    </tr>\n",
       "  </thead>\n",
       "  <tbody>\n",
       "    <tr>\n",
       "      <th>20</th>\n",
       "      <td>AFKS</td>\n",
       "      <td>2019-08-27</td>\n",
       "      <td>-0.000352</td>\n",
       "      <td>-351.957765</td>\n",
       "    </tr>\n",
       "    <tr>\n",
       "      <th>27</th>\n",
       "      <td>RUAL</td>\n",
       "      <td>2019-08-27</td>\n",
       "      <td>-0.001727</td>\n",
       "      <td>-1727.115717</td>\n",
       "    </tr>\n",
       "  </tbody>\n",
       "</table>\n",
       "</div>"
      ],
      "text/plain": [
       "   ticker   corn_date    profit   profit_abs\n",
       "20   AFKS  2019-08-27 -0.000352  -351.957765\n",
       "27   RUAL  2019-08-27 -0.001727 -1727.115717"
      ]
     },
     "execution_count": 30,
     "metadata": {},
     "output_type": "execute_result"
    }
   ],
   "source": [
    "X_test.loc[top_idxs, ['ticker', 'corn_date', 'profit', 'profit_abs']]"
   ]
  },
  {
   "cell_type": "code",
   "execution_count": 649,
   "metadata": {},
   "outputs": [
    {
     "data": {
      "text/plain": [
       "profit    0.036\n",
       "dtype: float64"
      ]
     },
     "execution_count": 649,
     "metadata": {},
     "output_type": "execute_result"
    }
   ],
   "source": [
    "X_test.loc[top_idxs, ['profit']].sum()"
   ]
  },
  {
   "cell_type": "code",
   "execution_count": 650,
   "metadata": {},
   "outputs": [
    {
     "data": {
      "text/plain": [
       "profit_abs    24000.0\n",
       "dtype: float64"
      ]
     },
     "execution_count": 650,
     "metadata": {},
     "output_type": "execute_result"
    }
   ],
   "source": [
    "X_test.loc[top_idxs, ['profit_abs']].sum()"
   ]
  },
  {
   "cell_type": "code",
   "execution_count": 33,
   "metadata": {},
   "outputs": [
    {
     "data": {
      "image/png": "[encoded data removed]",
      "text/plain": [
       "<Figure size 1800x720 with 1 Axes>"
      ]
     },
     "metadata": {},
     "output_type": "display_data"
    }
   ],
   "source": [
    "idx = 20\n",
    "#for idx in top_idxs:\n",
    "corn_date = X_test.loc[idx]['corn_date']\n",
    "ticker = X_test.loc[idx]['ticker']\n",
    "\n",
    "df = ticker2df_test[ticker]\n",
    "month_series = df_between(df, corn_date - timedelta(days=31), corn_date)['<OPEN>'].values\n",
    "target_series = df_between(df, corn_date, corn_date + timedelta(days=1))['<OPEN>'].values\n",
    "\n",
    "\n",
    "plt.figure(figsize=(25,10))\n",
    "plt.title(ticker)\n",
    "plt.plot(range(len(month_series)), month_series)\n",
    "plt.plot(range(len(month_series), len(month_series) + len(target_series)), target_series)\n",
    "\n",
    "buy_idx, sell_idx = single_profit_2(np.array([0] + list(target_series)), return_idxs=True)\n",
    "plt.scatter(len(month_series) + 1, target_series[0], color='k')\n",
    "plt.scatter(len(month_series) + buy_idx - 1, target_series[buy_idx - 1], color='g')\n",
    "plt.scatter(len(month_series) + sell_idx - 1, target_series[sell_idx - 1], color='r')\n",
    "\n",
    "#plt.plot(range(len(month_series), len(month_series) + len(target_series)), y_val_series[84][-8], color='r')\n",
    "\n",
    "# plt.axhline(y=11.573, linewidth=4, color='g')\n",
    "# plt.axhline(y=11.675, linewidth=4, color='r')\n",
    "\n",
    "\n",
    "\n",
    "plt.show()\n",
    "\n"
   ]
  },
  {
   "cell_type": "code",
   "execution_count": null,
   "metadata": {},
   "outputs": [],
   "source": []
  },
  {
   "cell_type": "code",
   "execution_count": null,
   "metadata": {},
   "outputs": [],
   "source": []
  },
  {
   "cell_type": "code",
   "execution_count": null,
   "metadata": {},
   "outputs": [],
   "source": []
  },
  {
   "cell_type": "code",
   "execution_count": 353,
   "metadata": {},
   "outputs": [],
   "source": [
    "    series = np.array([0] + list(target_series))\n",
    "    UPPER_COEF = 1.003\n",
    "    BUY_HORIZON = 118\n",
    "    can_buy = (series[2:BUY_HORIZON] <= series[1]*UPPER_COEF).max()"
   ]
  },
  {
   "cell_type": "code",
   "execution_count": 354,
   "metadata": {},
   "outputs": [
    {
     "data": {
      "text/plain": [
       "False"
      ]
     },
     "execution_count": 354,
     "metadata": {},
     "output_type": "execute_result"
    }
   ],
   "source": [
    "can_buy"
   ]
  },
  {
   "cell_type": "code",
   "execution_count": 352,
   "metadata": {},
   "outputs": [
    {
     "data": {
      "text/plain": [
       "array([False, False, False, False, False, False, False, False, False,\n",
       "       False, False, False, False, False, False, False])"
      ]
     },
     "execution_count": 352,
     "metadata": {},
     "output_type": "execute_result"
    }
   ],
   "source": [
    "series[2:BUY_HORIZON] <= series[1]*UPPER_COEF"
   ]
  },
  {
   "cell_type": "code",
   "execution_count": 356,
   "metadata": {},
   "outputs": [
    {
     "data": {
      "text/plain": [
       "array([  0.  , 223.62, 225.25, 225.69, 225.52, 226.03, 225.69, 224.99,\n",
       "       225.61, 225.81, 225.4 , 225.53, 225.33, 225.2 , 224.4 , 224.64,\n",
       "       224.66, 225.03, 224.94, 225.13, 224.96, 225.48, 225.53, 225.64,\n",
       "       225.49, 225.4 , 224.88, 225.23, 225.08, 225.3 , 225.35, 225.28,\n",
       "       225.39, 225.35, 225.58, 225.59, 225.8 , 225.69, 225.45, 225.42,\n",
       "       225.29, 225.27, 225.05, 225.26, 225.49, 225.4 , 225.33, 225.15,\n",
       "       225.46, 225.44, 226.29, 226.2 , 225.98, 226.14, 226.12, 226.48,\n",
       "       226.47, 227.21, 227.35, 226.8 , 226.63, 227.17, 227.06, 226.84,\n",
       "       226.89, 226.69, 226.5 , 226.56, 226.31, 226.54, 226.55, 226.68,\n",
       "       226.34, 226.4 , 226.55, 226.51, 226.4 , 226.53, 226.63, 226.28,\n",
       "       226.7 , 226.12, 226.58, 226.69, 227.16, 227.23, 227.27, 227.17,\n",
       "       226.93, 226.71, 226.93, 226.66, 226.99, 226.94, 226.95, 227.05,\n",
       "       226.85, 226.95, 226.84, 226.61, 226.47, 226.54, 226.9 , 226.98,\n",
       "       227.04, 226.76])"
      ]
     },
     "execution_count": 356,
     "metadata": {},
     "output_type": "execute_result"
    }
   ],
   "source": [
    "series"
   ]
  },
  {
   "cell_type": "code",
   "execution_count": null,
   "metadata": {},
   "outputs": [],
   "source": []
  },
  {
   "cell_type": "code",
   "execution_count": null,
   "metadata": {},
   "outputs": [],
   "source": []
  },
  {
   "cell_type": "code",
   "execution_count": null,
   "metadata": {},
   "outputs": [],
   "source": []
  },
  {
   "cell_type": "code",
   "execution_count": null,
   "metadata": {},
   "outputs": [],
   "source": []
  },
  {
   "cell_type": "code",
   "execution_count": null,
   "metadata": {},
   "outputs": [],
   "source": []
  },
  {
   "cell_type": "code",
   "execution_count": null,
   "metadata": {},
   "outputs": [],
   "source": []
  },
  {
   "cell_type": "code",
   "execution_count": null,
   "metadata": {},
   "outputs": [],
   "source": []
  },
  {
   "cell_type": "code",
   "execution_count": null,
   "metadata": {},
   "outputs": [],
   "source": []
  },
  {
   "cell_type": "code",
   "execution_count": 654,
   "metadata": {},
   "outputs": [
    {
     "ename": "AttributeError",
     "evalue": "type object 'datetime.datetime' has no attribute 'datetime'",
     "output_type": "error",
     "traceback": [
      "\u001b[0;31m---------------------------------------------------------------------------\u001b[0m",
      "\u001b[0;31mAttributeError\u001b[0m                            Traceback (most recent call last)",
      "\u001b[0;32m<ipython-input-654-b285a5e0abcb>\u001b[0m in \u001b[0;36m<module>\u001b[0;34m\u001b[0m\n\u001b[0;32m----> 1\u001b[0;31m \u001b[0mdatetime\u001b[0m\u001b[0;34m.\u001b[0m\u001b[0mdatetime\u001b[0m\u001b[0;34m.\u001b[0m\u001b[0mnow\u001b[0m\u001b[0;34m(\u001b[0m\u001b[0;34m)\u001b[0m\u001b[0;34m.\u001b[0m\u001b[0mstrftime\u001b[0m\u001b[0;34m(\u001b[0m\u001b[0;34m'%Y-%m-%d %H:%M:%S'\u001b[0m\u001b[0;34m)\u001b[0m\u001b[0;34m\u001b[0m\u001b[0m\n\u001b[0m",
      "\u001b[0;31mAttributeError\u001b[0m: type object 'datetime.datetime' has no attribute 'datetime'"
     ]
    }
   ],
   "source": [
    "datetime.datetime.now().strftime('%Y-%m-%d %H:%M:%S')"
   ]
  },
  {
   "cell_type": "code",
   "execution_count": null,
   "metadata": {},
   "outputs": [],
   "source": []
  },
  {
   "cell_type": "code",
   "execution_count": null,
   "metadata": {},
   "outputs": [],
   "source": []
  },
  {
   "cell_type": "code",
   "execution_count": null,
   "metadata": {},
   "outputs": [],
   "source": [
    "data_prefix='data/train'\n",
    "start_date=datetime.today().date() - timedelta(days=1)\n",
    "end_date = datetime.today().date() + timedelta(days=1)\n",
    "\n",
    "ticker='LKOH'\n",
    "load_single(ticker, 'data/temp', start_date, end_date, 3)\n",
    "\n",
    "\n",
    "df = pd.read_csv('data/train/{}.csv'.format(ticker))\n",
    "df['date'] = df['<DATE>'].apply(lambda x: datetime.strptime(str(x), \"%Y%m%d\").date())\n",
    "\n",
    "upd_df = pd.read_csv('data/temp/{}.csv'.format(ticker))\n",
    "upd_df['date'] = upd_df['<DATE>'].apply(lambda x: datetime.strptime(str(x), \"%Y%m%d\").date())"
   ]
  },
  {
   "cell_type": "code",
   "execution_count": null,
   "metadata": {},
   "outputs": [],
   "source": []
  },
  {
   "cell_type": "code",
   "execution_count": null,
   "metadata": {},
   "outputs": [],
   "source": [
    "                                                                                "
   ]
  },
  {
   "cell_type": "code",
   "execution_count": null,
   "metadata": {},
   "outputs": [],
   "source": []
  },
  {
   "cell_type": "code",
   "execution_count": null,
   "metadata": {},
   "outputs": [],
   "source": []
  },
  {
   "cell_type": "code",
   "execution_count": null,
   "metadata": {},
   "outputs": [],
   "source": []
  },
  {
   "cell_type": "code",
   "execution_count": null,
   "metadata": {},
   "outputs": [],
   "source": []
  }
 ],
 "metadata": {
  "kernelspec": {
   "display_name": "Python 3",
   "language": "python",
   "name": "python3"
  },
  "language_info": {
   "codemirror_mode": {
    "name": "ipython",
    "version": 3
   },
   "file_extension": ".py",
   "mimetype": "text/x-python",
   "name": "python",
   "nbconvert_exporter": "python",
   "pygments_lexer": "ipython3",
   "version": "3.5.2"
  }
 },
 "nbformat": 4,
 "nbformat_minor": 2
}
