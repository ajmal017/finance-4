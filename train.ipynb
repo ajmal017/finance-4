{
 "cells": [
  {
   "cell_type": "code",
   "execution_count": 2,
   "metadata": {},
   "outputs": [
    {
     "data": {
      "text/html": [
       "<style>.container { width:100% !important; }</style>"
      ],
      "text/plain": [
       "<IPython.core.display.HTML object>"
      ]
     },
     "metadata": {},
     "output_type": "display_data"
    }
   ],
   "source": [
    "from IPython.core.display import display, HTML\n",
    "display(HTML(\"<style>.container { width:100% !important; }</style>\"))"
   ]
  },
  {
   "cell_type": "code",
   "execution_count": 144,
   "metadata": {},
   "outputs": [
    {
     "name": "stdout",
     "output_type": "stream",
     "text": [
      "The autoreload extension is already loaded. To reload it, use:\n",
      "  %reload_ext autoreload\n"
     ]
    }
   ],
   "source": [
    "%load_ext autoreload\n",
    "%autoreload 2\n",
    "from utils import *\n",
    "\n",
    "import numpy as np\n",
    "import pandas as pd\n",
    "from tqdm import tqdm\n",
    "from datetime import datetime\n",
    "from datetime import timedelta\n",
    "import matplotlib.pyplot as plt\n",
    "import os\n",
    "import lightgbm as lgbm\n",
    "import warnings\n",
    "from utils import *\n",
    "import seaborn as sns\n",
    "from sklearn.metrics import accuracy_score\n",
    "from parameters import top_tickers, ibkr_info\n",
    "\n",
    "sns.set()\n",
    "\n",
    "warnings.filterwarnings('ignore')"
   ]
  },
  {
   "cell_type": "code",
   "execution_count": 222,
   "metadata": {},
   "outputs": [
    {
     "name": "stderr",
     "output_type": "stream",
     "text": [
      "100%|██████████| 30/30 [10:56<00:00, 21.88s/it]\n"
     ]
    }
   ],
   "source": [
    "load_tickers(data_prefix=\"../ssd/finance_data\", tickers=np.array(list(ibkr_info.keys()))[:], start_date=datetime.strptime(\"20190101\", \"%Y%m%d\").date(), end_date=datetime.today().date() + timedelta(days=1), period=2)"
   ]
  },
  {
   "cell_type": "code",
   "execution_count": 225,
   "metadata": {},
   "outputs": [],
   "source": [
    "ticker2df = load_dfs('../ssd/finance_data', np.array(list(ibkr_info.keys())))"
   ]
  },
  {
   "cell_type": "code",
   "execution_count": 211,
   "metadata": {},
   "outputs": [],
   "source": [
    "ticker2df = load_dfs('../ssd/finance_data', ['MOEX', 'AFLT'])"
   ]
  },
  {
   "cell_type": "code",
   "execution_count": 228,
   "metadata": {},
   "outputs": [
    {
     "data": {
      "text/plain": [
       "30"
      ]
     },
     "execution_count": 228,
     "metadata": {},
     "output_type": "execute_result"
    }
   ],
   "source": [
    "len(ticker2df)"
   ]
  },
  {
   "cell_type": "code",
   "execution_count": 226,
   "metadata": {},
   "outputs": [],
   "source": [
    "val_start_date = np.datetime64(datetime.strptime(\"20200526\", \"%Y%m%d\").date() - timedelta(days=30))\n",
    "test_start_date = np.datetime64(datetime.strptime(\"20200526\", \"%Y%m%d\").date() - timedelta(days=15))\n",
    "\n",
    "all_train_datetimes = df_between(ticker2df['AFLT'], None, val_start_date)['datetime'].values\n",
    "all_val_datetimes = df_between(ticker2df['AFLT'], val_start_date, test_start_date)['datetime'].values\n",
    "\n",
    "train_datetimes = np.random.choice(all_train_datetimes, 10)"
   ]
  },
  {
   "cell_type": "code",
   "execution_count": 208,
   "metadata": {},
   "outputs": [],
   "source": [
    "X, y = single_ticker(df, train_datetimes, np.timedelta64(1,'h'))"
   ]
  },
  {
   "cell_type": "code",
   "execution_count": null,
   "metadata": {},
   "outputs": [],
   "source": [
    "X, y = all_samples(ticker2df, datetimes, np.timedelta64(1,'h'))"
   ]
  },
  {
   "cell_type": "code",
   "execution_count": 236,
   "metadata": {},
   "outputs": [
    {
     "data": {
      "text/plain": [
       "(150, 100)"
      ]
     },
     "execution_count": 236,
     "metadata": {},
     "output_type": "execute_result"
    }
   ],
   "source": [
    "X.shape"
   ]
  },
  {
   "cell_type": "code",
   "execution_count": 240,
   "metadata": {},
   "outputs": [
    {
     "data": {
      "text/plain": [
       "(array([ 3.,  8., 13., 20., 60., 23., 14.,  3.,  3.,  3.]),\n",
       " array([-0.01019126, -0.00811713, -0.006043  , -0.00396888, -0.00189475,\n",
       "         0.00017938,  0.00225351,  0.00432764,  0.00640177,  0.0084759 ,\n",
       "         0.01055002]),\n",
       " <a list of 10 Patch objects>)"
      ]
     },
     "execution_count": 240,
     "metadata": {},
     "output_type": "execute_result"
    },
    {
     "data": {
      "image/png": "[encoded data removed]",
      "text/plain": [
       "<Figure size 432x288 with 1 Axes>"
      ]
     },
     "metadata": {},
     "output_type": "display_data"
    }
   ],
   "source": [
    "plt.hist(y)"
   ]
  },
  {
   "cell_type": "code",
   "execution_count": null,
   "metadata": {},
   "outputs": [],
   "source": []
  },
  {
   "cell_type": "code",
   "execution_count": 147,
   "metadata": {},
   "outputs": [
    {
     "data": {
      "text/plain": [
       "Timestamp('2020-03-18 12:36:00')"
      ]
     },
     "execution_count": 147,
     "metadata": {},
     "output_type": "execute_result"
    }
   ],
   "source": [
    "train_df['datetime'].max()"
   ]
  },
  {
   "cell_type": "code",
   "execution_count": 148,
   "metadata": {},
   "outputs": [
    {
     "data": {
      "text/plain": [
       "numpy.datetime64('2020-03-18T12:37:00.000000000')"
      ]
     },
     "execution_count": 148,
     "metadata": {},
     "output_type": "execute_result"
    }
   ],
   "source": [
    "curr_datetime"
   ]
  },
  {
   "cell_type": "code",
   "execution_count": 151,
   "metadata": {},
   "outputs": [
    {
     "data": {
      "text/plain": [
       "Timestamp('2020-03-18 12:37:00')"
      ]
     },
     "execution_count": 151,
     "metadata": {},
     "output_type": "execute_result"
    }
   ],
   "source": [
    "target_df['datetime'].min()"
   ]
  },
  {
   "cell_type": "code",
   "execution_count": null,
   "metadata": {},
   "outputs": [],
   "source": [
    "train_df['datetime'].max()"
   ]
  },
  {
   "cell_type": "code",
   "execution_count": null,
   "metadata": {},
   "outputs": [],
   "source": []
  },
  {
   "cell_type": "code",
   "execution_count": null,
   "metadata": {},
   "outputs": [],
   "source": [
    "ticker_feats, ticker_targets = single_ticker(ticker2df['AFKS'], train_dates[:50], False)"
   ]
  },
  {
   "cell_type": "code",
   "execution_count": 11,
   "metadata": {},
   "outputs": [
    {
     "data": {
      "text/html": [
       "<div>\n",
       "<style scoped>\n",
       "    .dataframe tbody tr th:only-of-type {\n",
       "        vertical-align: middle;\n",
       "    }\n",
       "\n",
       "    .dataframe tbody tr th {\n",
       "        vertical-align: top;\n",
       "    }\n",
       "\n",
       "    .dataframe thead th {\n",
       "        text-align: right;\n",
       "    }\n",
       "</style>\n",
       "<table border=\"1\" class=\"dataframe\">\n",
       "  <thead>\n",
       "    <tr style=\"text-align: right;\">\n",
       "      <th></th>\n",
       "      <th>0</th>\n",
       "      <th>1</th>\n",
       "      <th>2</th>\n",
       "      <th>3</th>\n",
       "      <th>4</th>\n",
       "      <th>5</th>\n",
       "      <th>6</th>\n",
       "      <th>7</th>\n",
       "      <th>8</th>\n",
       "      <th>9</th>\n",
       "      <th>...</th>\n",
       "      <th>119</th>\n",
       "      <th>120</th>\n",
       "      <th>121</th>\n",
       "      <th>122</th>\n",
       "      <th>123</th>\n",
       "      <th>124</th>\n",
       "      <th>125</th>\n",
       "      <th>126</th>\n",
       "      <th>ticker</th>\n",
       "      <th>corn_date</th>\n",
       "    </tr>\n",
       "  </thead>\n",
       "  <tbody>\n",
       "    <tr>\n",
       "      <th>0</th>\n",
       "      <td>0.002727</td>\n",
       "      <td>0.023373</td>\n",
       "      <td>1.013984</td>\n",
       "      <td>0.951887</td>\n",
       "      <td>1.01934</td>\n",
       "      <td>0.117925</td>\n",
       "      <td>0.037736</td>\n",
       "      <td>0.007607</td>\n",
       "      <td>1.000326</td>\n",
       "      <td>0.986642</td>\n",
       "      <td>...</td>\n",
       "      <td>0.000926</td>\n",
       "      <td>0.004177</td>\n",
       "      <td>0.000766</td>\n",
       "      <td>0.000457</td>\n",
       "      <td>0.001383</td>\n",
       "      <td>0.000436</td>\n",
       "      <td>0.000458</td>\n",
       "      <td>0.000766</td>\n",
       "      <td>AFKS</td>\n",
       "      <td>2018-05-11</td>\n",
       "    </tr>\n",
       "  </tbody>\n",
       "</table>\n",
       "<p>1 rows × 129 columns</p>\n",
       "</div>"
      ],
      "text/plain": [
       "          0         1         2         3        4         5         6  \\\n",
       "0  0.002727  0.023373  1.013984  0.951887  1.01934  0.117925  0.037736   \n",
       "\n",
       "          7         8         9  ...       119       120       121       122  \\\n",
       "0  0.007607  1.000326  0.986642  ...  0.000926  0.004177  0.000766  0.000457   \n",
       "\n",
       "        123       124       125       126  ticker   corn_date  \n",
       "0  0.001383  0.000436  0.000458  0.000766    AFKS  2018-05-11  \n",
       "\n",
       "[1 rows x 129 columns]"
      ]
     },
     "execution_count": 11,
     "metadata": {},
     "output_type": "execute_result"
    }
   ],
   "source": [
    "feats"
   ]
  },
  {
   "cell_type": "code",
   "execution_count": null,
   "metadata": {},
   "outputs": [],
   "source": [
    "ticker_feats.shape"
   ]
  },
  {
   "cell_type": "code",
   "execution_count": null,
   "metadata": {},
   "outputs": [],
   "source": [
    "len(ticker_targets)"
   ]
  },
  {
   "cell_type": "code",
   "execution_count": null,
   "metadata": {},
   "outputs": [],
   "source": [
    "feats"
   ]
  },
  {
   "cell_type": "code",
   "execution_count": null,
   "metadata": {},
   "outputs": [],
   "source": [
    "X_train, train_target_dfs = all_samples(ticker2df, train_dates)\n",
    "X_val, val_target_dfs = all_samples(ticker2df, val_dates)"
   ]
  },
  {
   "cell_type": "code",
   "execution_count": 8,
   "metadata": {},
   "outputs": [
    {
     "ename": "NameError",
     "evalue": "name 'train_target_dfs' is not defined",
     "output_type": "error",
     "traceback": [
      "\u001b[0;31m---------------------------------------------------------------------------\u001b[0m",
      "\u001b[0;31mNameError\u001b[0m                                 Traceback (most recent call last)",
      "\u001b[0;32m<ipython-input-8-aa96d18612d7>\u001b[0m in \u001b[0;36m<module>\u001b[0;34m\u001b[0m\n\u001b[0;32m----> 1\u001b[0;31m \u001b[0mtrain_target_dfs\u001b[0m\u001b[0;34m[\u001b[0m\u001b[0;36m0\u001b[0m\u001b[0;34m]\u001b[0m\u001b[0;34m\u001b[0m\u001b[0;34m\u001b[0m\u001b[0m\n\u001b[0m",
      "\u001b[0;31mNameError\u001b[0m: name 'train_target_dfs' is not defined"
     ]
    }
   ],
   "source": [
    "train_target_dfs[0]"
   ]
  },
  {
   "cell_type": "code",
   "execution_count": null,
   "metadata": {},
   "outputs": [],
   "source": [
    "X_train.shape"
   ]
  },
  {
   "cell_type": "code",
   "execution_count": null,
   "metadata": {},
   "outputs": [],
   "source": [
    "best_feat_idxs = np.argsort(lgb.feature_importances_)[::-1][:5]"
   ]
  },
  {
   "cell_type": "code",
   "execution_count": null,
   "metadata": {},
   "outputs": [],
   "source": [
    "lgb.feature_importances_.shape"
   ]
  },
  {
   "cell_type": "code",
   "execution_count": null,
   "metadata": {},
   "outputs": [],
   "source": [
    "best_feat_idxs = [0, 122, 123, 124, 125, 126]"
   ]
  },
  {
   "cell_type": "code",
   "execution_count": null,
   "metadata": {},
   "outputs": [],
   "source": [
    "best_feat_idxs"
   ]
  },
  {
   "cell_type": "code",
   "execution_count": null,
   "metadata": {},
   "outputs": [],
   "source": [
    "y_train = calc_target(train_target_dfs, single_target_3, target_df_2_free_day_series) > 0.01\n",
    "y_val = calc_target(val_target_dfs, single_target_3, target_df_2_free_day_series) > 0.01\n",
    "\n",
    "lgb = lgbm.sklearn.LGBMClassifier()\n",
    "lgb.fit(X_train.drop(['corn_date', 'ticker'], axis=1)[best_feat_idxs], y_train)"
   ]
  },
  {
   "cell_type": "code",
   "execution_count": null,
   "metadata": {},
   "outputs": [],
   "source": [
    "lgb.feature_importances_"
   ]
  },
  {
   "cell_type": "code",
   "execution_count": null,
   "metadata": {},
   "outputs": [],
   "source": [
    "plt.plot(lgb.feature_importances_)"
   ]
  },
  {
   "cell_type": "code",
   "execution_count": null,
   "metadata": {},
   "outputs": [],
   "source": [
    "plt.plot(lgb.feature_importances_)"
   ]
  },
  {
   "cell_type": "code",
   "execution_count": null,
   "metadata": {},
   "outputs": [],
   "source": [
    "try:\n",
    "    del X_val['profit']\n",
    "    del X_val['profit_abs']\n",
    "except:\n",
    "    None\n",
    "\n",
    "pred_proba = lgb.predict_proba(X_val.drop(['corn_date', 'ticker'], axis=1)[best_feat_idxs])[:, 1]\n",
    "#pred_proba = lgb.predict(X_val.drop(['corn_date', 'ticker'], axis=1))\n",
    "\n",
    "plt.plot(pred_proba)\n",
    "plt.show()\n",
    "\n",
    "# pred_proba_2 = lgb_2.predict_proba(X_val.drop(['corn_date', 'ticker'], axis=1))[:, 1]\n",
    "# plt.plot(pred_proba_2)\n",
    "# plt.show()\n",
    "\n",
    "# pred_proba_3 = lgb_3.predict_proba(X_val.drop(['corn_date', 'ticker'], axis=1))[:, 1]\n",
    "# plt.plot(pred_proba_3)"
   ]
  },
  {
   "cell_type": "code",
   "execution_count": null,
   "metadata": {},
   "outputs": [],
   "source": [
    "plt.hist(pred_proba, bins=100)\n",
    "plt.show()"
   ]
  },
  {
   "cell_type": "code",
   "execution_count": null,
   "metadata": {},
   "outputs": [],
   "source": [
    "top_idxs = np.where(pred_proba > 0.7)[0]\n",
    "len(top_idxs)"
   ]
  },
  {
   "cell_type": "code",
   "execution_count": null,
   "metadata": {},
   "outputs": [],
   "source": [
    "y_val.mean(), y_val[top_idxs].mean()"
   ]
  },
  {
   "cell_type": "code",
   "execution_count": null,
   "metadata": {},
   "outputs": [],
   "source": [
    "y_val.mean(), y_val[top_idxs].mean()"
   ]
  },
  {
   "cell_type": "code",
   "execution_count": null,
   "metadata": {},
   "outputs": [],
   "source": [
    "from utils import *\n",
    "\n",
    "y_val_profit = calc_target(val_target_dfs, single_profit_2, target_df_2_one_day_series)"
   ]
  },
  {
   "cell_type": "code",
   "execution_count": null,
   "metadata": {},
   "outputs": [],
   "source": [
    "X_val['profit'] = y_val_profit\n",
    "day_cnt_df = X_val.loc[top_idxs].groupby('corn_date').size().reset_index().rename({0:'cnt_per_day'}, axis=1)\n",
    "X_val = pd.merge(X_val, day_cnt_df, on='corn_date', how='left')\n",
    "X_val['volume'] = 2500000 / X_val['cnt_per_day']\n",
    "X_val['profit_abs'] = X_val['volume'] * X_val['profit']\n",
    "del X_val['cnt_per_day']\n",
    "del X_val['volume']"
   ]
  },
  {
   "cell_type": "code",
   "execution_count": null,
   "metadata": {},
   "outputs": [],
   "source": [
    "X_val.loc[top_idxs].groupby('corn_date')['profit_abs'].sum()"
   ]
  },
  {
   "cell_type": "code",
   "execution_count": null,
   "metadata": {},
   "outputs": [],
   "source": [
    "X_val.loc[top_idxs]['profit_abs'].sum()"
   ]
  },
  {
   "cell_type": "code",
   "execution_count": null,
   "metadata": {},
   "outputs": [],
   "source": [
    "54294.45376124319\n",
    "45058.54288341864"
   ]
  },
  {
   "cell_type": "code",
   "execution_count": null,
   "metadata": {},
   "outputs": [],
   "source": [
    "249540.7438308383\n",
    "238265.8202385087\n",
    "182758.77619388318\n",
    "124229.31720323926\n",
    "91517.8617101984\n",
    "84287.5011097007"
   ]
  },
  {
   "cell_type": "code",
   "execution_count": null,
   "metadata": {},
   "outputs": [],
   "source": [
    "X_day = X_val.loc[top_idxs]\n",
    "X_day = X_day[X_day['corn_date'] == datetime.strptime(\"20190814\", \"%Y%m%d\").date()]"
   ]
  },
  {
   "cell_type": "code",
   "execution_count": null,
   "metadata": {},
   "outputs": [],
   "source": [
    "X_day"
   ]
  },
  {
   "cell_type": "code",
   "execution_count": null,
   "metadata": {},
   "outputs": [],
   "source": [
    "profit"
   ]
  },
  {
   "cell_type": "code",
   "execution_count": null,
   "metadata": {},
   "outputs": [],
   "source": [
    "idx = 237\n",
    "#for idx in top_idxs:\n",
    "corn_date = X_val.loc[idx]['corn_date']\n",
    "ticker = X_val.loc[idx]['ticker']\n",
    "\n",
    "df = ticker2df[ticker]\n",
    "month_series = df_between(df, corn_date - timedelta(days=31), corn_date)['<OPEN>'].values\n",
    "target_series = df_between(df, corn_date, corn_date + timedelta(days=1))['<OPEN>'].values\n",
    "\n",
    "\n",
    "plt.figure(figsize=(25,10))\n",
    "plt.title(ticker)\n",
    "plt.plot(range(len(month_series)), month_series)\n",
    "plt.plot(range(len(month_series), len(month_series) + len(target_series)), target_series)\n",
    "\n",
    "buy_idx, sell_idx, profit = single_profit_2(target_series, return_idxs=True)\n",
    "\n",
    "plt.scatter(len(month_series) + 1, target_series[0], color='k')\n",
    "plt.scatter(len(month_series) + buy_idx, target_series[buy_idx], color='g')\n",
    "plt.scatter(len(month_series) + sell_idx, target_series[sell_idx], color='r')\n",
    "\n",
    "#plt.plot(range(len(month_series), len(month_series) + len(target_series)), y_val_series[84][-8], color='r')\n",
    "\n",
    "\n",
    "\n",
    "\n",
    "plt.show()\n",
    "corn_date"
   ]
  },
  {
   "cell_type": "code",
   "execution_count": null,
   "metadata": {},
   "outputs": [],
   "source": [
    "int(datetime.now().strftime('%H'))"
   ]
  },
  {
   "cell_type": "code",
   "execution_count": null,
   "metadata": {},
   "outputs": [],
   "source": [
    "lgb"
   ]
  },
  {
   "cell_type": "code",
   "execution_count": null,
   "metadata": {},
   "outputs": [],
   "source": [
    "import pickle\n",
    "with open('models/lgb_26_09_thr04.pickle', 'wb') as f:\n",
    "    pickle.dump(lgb, f)"
   ]
  },
  {
   "cell_type": "code",
   "execution_count": null,
   "metadata": {},
   "outputs": [],
   "source": []
  },
  {
   "cell_type": "code",
   "execution_count": null,
   "metadata": {},
   "outputs": [],
   "source": []
  },
  {
   "cell_type": "markdown",
   "metadata": {},
   "source": [
    "# Inference"
   ]
  },
  {
   "cell_type": "code",
   "execution_count": null,
   "metadata": {},
   "outputs": [],
   "source": [
    "train_dates = [datetime.today().date() - timedelta(days=x) for x in range(1, 100)]"
   ]
  },
  {
   "cell_type": "code",
   "execution_count": null,
   "metadata": {},
   "outputs": [],
   "source": [
    "X_train, y_train_series = all_samples(ticker2df, train_dates)\n"
   ]
  },
  {
   "cell_type": "code",
   "execution_count": null,
   "metadata": {},
   "outputs": [],
   "source": [
    "y_train_profit = calc_target(y_train_series, single_profit_2) \n",
    "\n",
    "y_train = calc_target(y_train_series, single_target_3) > 0.01\n",
    "\n",
    "lgb = lgbm.sklearn.LGBMClassifier()\n",
    "lgb.fit(X_train.drop(['corn_date', 'ticker'], axis=1), y_train)"
   ]
  },
  {
   "cell_type": "code",
   "execution_count": null,
   "metadata": {},
   "outputs": [],
   "source": [
    "test_start_day"
   ]
  },
  {
   "cell_type": "code",
   "execution_count": null,
   "metadata": {},
   "outputs": [],
   "source": [
    "load_tickers(data_prefix=\"data/current\", tickers=np.array(list(ibkr_info.keys())), start_date=datetime.today().date() - timedelta(days=40), end_date=datetime.today().date(), period=3)"
   ]
  },
  {
   "cell_type": "code",
   "execution_count": null,
   "metadata": {},
   "outputs": [],
   "source": [
    "ticker2df_test = load_dfs('data/current', np.array(list(ibkr_info.keys())))"
   ]
  },
  {
   "cell_type": "code",
   "execution_count": null,
   "metadata": {},
   "outputs": [],
   "source": [
    "X_test, y_test_series = all_samples(ticker2df_test, [datetime.today().date()], test_mode=True)"
   ]
  },
  {
   "cell_type": "code",
   "execution_count": null,
   "metadata": {},
   "outputs": [],
   "source": [
    "import pickle\n",
    "with open('models/lgb_26_09_thr04.pickle', 'rb') as f:\n",
    "    lgb = pickle.load(f)"
   ]
  },
  {
   "cell_type": "code",
   "execution_count": null,
   "metadata": {},
   "outputs": [],
   "source": [
    "X_test"
   ]
  },
  {
   "cell_type": "code",
   "execution_count": null,
   "metadata": {},
   "outputs": [],
   "source": [
    "# del X_test['profit']\n",
    "# del X_test['profit_abs']"
   ]
  },
  {
   "cell_type": "code",
   "execution_count": null,
   "metadata": {},
   "outputs": [],
   "source": [
    "pred_proba = lgb.predict_proba(X_test.drop(['corn_date', 'ticker'], axis=1))[:, 1]\n",
    "plt.plot(pred_proba)\n",
    "plt.show()\n"
   ]
  },
  {
   "cell_type": "code",
   "execution_count": null,
   "metadata": {},
   "outputs": [],
   "source": [
    "16990000 * 0.039235"
   ]
  },
  {
   "cell_type": "code",
   "execution_count": null,
   "metadata": {},
   "outputs": [],
   "source": [
    "top_idxs = np.where(pred_proba > 0.25)[0]\n",
    "top_idxs"
   ]
  },
  {
   "cell_type": "code",
   "execution_count": null,
   "metadata": {},
   "outputs": [],
   "source": [
    "ticker2price = {}\n",
    "\n",
    "for ticker in list(X_test.loc[top_idxs, ['ticker', 'corn_date']]['ticker'].values):\n",
    "    \n",
    "    df = ticker2df_test[ticker]\n",
    "    price = df[df['date']==datetime.today().date()]['<OPEN>'].values[0]\n",
    "    \n",
    "    ticker2price[ticker] = price\n",
    "\n",
    "\n",
    "ticker2price"
   ]
  },
  {
   "cell_type": "code",
   "execution_count": null,
   "metadata": {},
   "outputs": [],
   "source": [
    "y_test_profit = calc_target(y_test_series, single_profit_2)"
   ]
  },
  {
   "cell_type": "code",
   "execution_count": null,
   "metadata": {},
   "outputs": [],
   "source": [
    "X_test['profit'] = y_test_profit\n",
    "day_cnt_df = X_test.loc[top_idxs].groupby('corn_date').size().reset_index().rename({0:'cnt_per_day'}, axis=1)\n",
    "X_test = pd.merge(X_test, day_cnt_df, on='corn_date', how='left')\n",
    "X_test['volume'] = 2000000 / X_test['cnt_per_day']\n",
    "X_test['profit_abs'] = X_test['volume'] * X_test['profit']\n",
    "del X_test['cnt_per_day']\n",
    "del X_test['volume']"
   ]
  },
  {
   "cell_type": "code",
   "execution_count": null,
   "metadata": {},
   "outputs": [],
   "source": [
    "top_idxs"
   ]
  },
  {
   "cell_type": "code",
   "execution_count": null,
   "metadata": {},
   "outputs": [],
   "source": [
    "X_test.loc[top_idxs, ['ticker', 'corn_date']]"
   ]
  },
  {
   "cell_type": "code",
   "execution_count": null,
   "metadata": {
    "scrolled": true
   },
   "outputs": [],
   "source": [
    "X_test.loc[top_idxs, ['ticker', 'corn_date', 'profit', 'profit_abs']]"
   ]
  },
  {
   "cell_type": "code",
   "execution_count": null,
   "metadata": {},
   "outputs": [],
   "source": [
    "X_test.loc[top_idxs, ['profit']].sum()"
   ]
  },
  {
   "cell_type": "code",
   "execution_count": null,
   "metadata": {},
   "outputs": [],
   "source": [
    "X_test.loc[top_idxs, ['profit_abs']].sum()"
   ]
  },
  {
   "cell_type": "code",
   "execution_count": null,
   "metadata": {},
   "outputs": [],
   "source": [
    "idx = 20\n",
    "#for idx in top_idxs:\n",
    "corn_date = X_test.loc[idx]['corn_date']\n",
    "ticker = X_test.loc[idx]['ticker']\n",
    "\n",
    "df = ticker2df_test[ticker]\n",
    "month_series = df_between(df, corn_date - timedelta(days=31), corn_date)['<OPEN>'].values\n",
    "target_series = df_between(df, corn_date, corn_date + timedelta(days=1))['<OPEN>'].values\n",
    "\n",
    "\n",
    "plt.figure(figsize=(25,10))\n",
    "plt.title(ticker)\n",
    "plt.plot(range(len(month_series)), month_series)\n",
    "plt.plot(range(len(month_series), len(month_series) + len(target_series)), target_series)\n",
    "\n",
    "buy_idx, sell_idx = single_profit_2(np.array([0] + list(target_series)), return_idxs=True)\n",
    "plt.scatter(len(month_series) + 1, target_series[0], color='k')\n",
    "plt.scatter(len(month_series) + buy_idx - 1, target_series[buy_idx - 1], color='g')\n",
    "plt.scatter(len(month_series) + sell_idx - 1, target_series[sell_idx - 1], color='r')\n",
    "\n",
    "#plt.plot(range(len(month_series), len(month_series) + len(target_series)), y_val_series[84][-8], color='r')\n",
    "\n",
    "# plt.axhline(y=11.573, linewidth=4, color='g')\n",
    "# plt.axhline(y=11.675, linewidth=4, color='r')\n",
    "\n",
    "\n",
    "\n",
    "plt.show()\n",
    "\n"
   ]
  },
  {
   "cell_type": "code",
   "execution_count": null,
   "metadata": {},
   "outputs": [],
   "source": []
  },
  {
   "cell_type": "code",
   "execution_count": null,
   "metadata": {},
   "outputs": [],
   "source": []
  },
  {
   "cell_type": "code",
   "execution_count": null,
   "metadata": {},
   "outputs": [],
   "source": []
  },
  {
   "cell_type": "code",
   "execution_count": null,
   "metadata": {},
   "outputs": [],
   "source": [
    "    series = np.array([0] + list(target_series))\n",
    "    UPPER_COEF = 1.003\n",
    "    BUY_HORIZON = 118\n",
    "    can_buy = (series[2:BUY_HORIZON] <= series[1]*UPPER_COEF).max()"
   ]
  },
  {
   "cell_type": "code",
   "execution_count": null,
   "metadata": {},
   "outputs": [],
   "source": [
    "can_buy"
   ]
  },
  {
   "cell_type": "code",
   "execution_count": null,
   "metadata": {},
   "outputs": [],
   "source": [
    "series[2:BUY_HORIZON] <= series[1]*UPPER_COEF"
   ]
  },
  {
   "cell_type": "code",
   "execution_count": null,
   "metadata": {},
   "outputs": [],
   "source": [
    "series"
   ]
  },
  {
   "cell_type": "code",
   "execution_count": null,
   "metadata": {},
   "outputs": [],
   "source": []
  },
  {
   "cell_type": "code",
   "execution_count": null,
   "metadata": {},
   "outputs": [],
   "source": []
  },
  {
   "cell_type": "code",
   "execution_count": null,
   "metadata": {},
   "outputs": [],
   "source": []
  },
  {
   "cell_type": "code",
   "execution_count": null,
   "metadata": {},
   "outputs": [],
   "source": []
  },
  {
   "cell_type": "code",
   "execution_count": null,
   "metadata": {},
   "outputs": [],
   "source": []
  },
  {
   "cell_type": "code",
   "execution_count": null,
   "metadata": {},
   "outputs": [],
   "source": []
  },
  {
   "cell_type": "code",
   "execution_count": null,
   "metadata": {},
   "outputs": [],
   "source": []
  },
  {
   "cell_type": "code",
   "execution_count": null,
   "metadata": {},
   "outputs": [],
   "source": []
  },
  {
   "cell_type": "code",
   "execution_count": null,
   "metadata": {},
   "outputs": [],
   "source": [
    "datetime.datetime.now().strftime('%Y-%m-%d %H:%M:%S')"
   ]
  },
  {
   "cell_type": "code",
   "execution_count": null,
   "metadata": {},
   "outputs": [],
   "source": []
  },
  {
   "cell_type": "code",
   "execution_count": null,
   "metadata": {},
   "outputs": [],
   "source": []
  },
  {
   "cell_type": "code",
   "execution_count": null,
   "metadata": {},
   "outputs": [],
   "source": [
    "data_prefix='data/train'\n",
    "start_date=datetime.today().date() - timedelta(days=1)\n",
    "end_date = datetime.today().date() + timedelta(days=1)\n",
    "\n",
    "ticker='LKOH'\n",
    "load_single(ticker, 'data/temp', start_date, end_date, 3)\n",
    "\n",
    "\n",
    "df = pd.read_csv('data/train/{}.csv'.format(ticker))\n",
    "df['date'] = df['<DATE>'].apply(lambda x: datetime.strptime(str(x), \"%Y%m%d\").date())\n",
    "\n",
    "upd_df = pd.read_csv('data/temp/{}.csv'.format(ticker))\n",
    "upd_df['date'] = upd_df['<DATE>'].apply(lambda x: datetime.strptime(str(x), \"%Y%m%d\").date())"
   ]
  },
  {
   "cell_type": "code",
   "execution_count": null,
   "metadata": {},
   "outputs": [],
   "source": []
  },
  {
   "cell_type": "code",
   "execution_count": null,
   "metadata": {},
   "outputs": [],
   "source": [
    "                                                                                "
   ]
  },
  {
   "cell_type": "code",
   "execution_count": null,
   "metadata": {},
   "outputs": [],
   "source": []
  },
  {
   "cell_type": "code",
   "execution_count": null,
   "metadata": {},
   "outputs": [],
   "source": []
  },
  {
   "cell_type": "code",
   "execution_count": null,
   "metadata": {},
   "outputs": [],
   "source": []
  },
  {
   "cell_type": "code",
   "execution_count": null,
   "metadata": {},
   "outputs": [],
   "source": []
  }
 ],
 "metadata": {
  "kernelspec": {
   "display_name": "Python 3",
   "language": "python",
   "name": "python3"
  },
  "language_info": {
   "codemirror_mode": {
    "name": "ipython",
    "version": 3
   },
   "file_extension": ".py",
   "mimetype": "text/x-python",
   "name": "python",
   "nbconvert_exporter": "python",
   "pygments_lexer": "ipython3",
   "version": "3.6.8"
  }
 },
 "nbformat": 4,
 "nbformat_minor": 2
}
